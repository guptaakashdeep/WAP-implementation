{
 "cells": [
  {
   "cell_type": "markdown",
   "id": "c73fd6d2-c787-4f70-8c0d-5cd2ad5de9fd",
   "metadata": {},
   "source": [
    "# Write Audit Publish Data Quality Pattern using `wap.id`"
   ]
  },
  {
   "cell_type": "markdown",
   "id": "a7629db5-5775-45d7-89f4-95fd06ce1b0c",
   "metadata": {},
   "source": [
    "## Setting Spark Session Configuration\n",
    "\n",
    "- update `<s3_bucket>` with a bucket with write access below"
   ]
  },
  {
   "cell_type": "code",
   "execution_count": null,
   "id": "3f8a9809-e7a5-4abd-b4da-d618a70ddf37",
   "metadata": {
    "execution": {
     "iopub.execute_input": "2024-01-02T08:44:08.907565Z",
     "iopub.status.busy": "2024-01-02T08:44:08.907209Z",
     "iopub.status.idle": "2024-01-02T08:44:09.698824Z",
     "shell.execute_reply": "2024-01-02T08:44:09.697806Z",
     "shell.execute_reply.started": "2024-01-02T08:44:08.907534Z"
    },
    "tags": []
   },
   "outputs": [],
   "source": [
    "%%configure\n",
    "{\n",
    "    \"conf\": {\n",
    "        \"spark.jars.packages\": \"com.amazon.deequ:deequ:2.0.3-spark-3.3\",\n",
    "        \"spark.jars.excludes\": \"net.sourceforge.f2j:arpack_combined_all\",\n",
    "        \"spark.sql.extensions\": \"org.apache.iceberg.spark.extensions.IcebergSparkSessionExtensions\",\n",
    "        \"spark.sql.catalog.glue\": \"org.apache.iceberg.spark.SparkCatalog\",\n",
    "        \"spark.sql.catalog.glue.catalog-impl\":\"org.apache.iceberg.aws.glue.GlueCatalog\",\n",
    "        \"spark.sql.catalog.glue.io-impl\":\"org.apache.iceberg.aws.s3.S3FileIO\",\n",
    "        \"spark.sql.catalog.glue.warehouse\":\"s3://<s3_bucket>/glue/warehouse\"\n",
    "    }\n",
    "}"
   ]
  },
  {
   "cell_type": "code",
   "execution_count": 4,
   "id": "e3768ab6-2d00-4196-a906-066d59824931",
   "metadata": {
    "execution": {
     "iopub.execute_input": "2024-01-02T08:46:24.758064Z",
     "iopub.status.busy": "2024-01-02T08:46:24.757692Z",
     "iopub.status.idle": "2024-01-02T08:46:24.826195Z",
     "shell.execute_reply": "2024-01-02T08:46:24.825147Z",
     "shell.execute_reply.started": "2024-01-02T08:46:24.758032Z"
    },
    "tags": []
   },
   "outputs": [
    {
     "data": {
      "application/vnd.jupyter.widget-view+json": {
       "model_id": "2e9d69e0e2d746d7920ff78995deac7f",
       "version_major": 2,
       "version_minor": 0
      },
      "text/plain": [
       "VBox()"
      ]
     },
     "metadata": {},
     "output_type": "display_data"
    },
    {
     "data": {
      "application/vnd.jupyter.widget-view+json": {
       "model_id": "",
       "version_major": 2,
       "version_minor": 0
      },
      "text/plain": [
       "FloatProgress(value=0.0, bar_style='info', description='Progress:', layout=Layout(height='25px', width='50%'),…"
      ]
     },
     "metadata": {},
     "output_type": "display_data"
    }
   ],
   "source": [
    "from pyspark.sql.functions import col, lit\n",
    "import os\n",
    "\n",
    "# setting spark_version in environment variable for using PyDeequ in Audit steps.\n",
    "os.environ[\"SPARK_VERSION\"] = '3.3'"
   ]
  },
  {
   "cell_type": "markdown",
   "id": "c9960a6c-30c4-4602-9e4e-8120bcfb7eb6",
   "metadata": {},
   "source": [
    "## Data Preparation\n",
    "\n",
    "- Creating a Production table called `glue.nyc_tlc.green_taxi_trips` in Glue Catalog\n",
    "- Creating `source_df` that will act as `source` data while writing into table."
   ]
  },
  {
   "cell_type": "code",
   "execution_count": 5,
   "id": "a3528754-454c-498c-9deb-bbd4ef9b1c77",
   "metadata": {
    "execution": {
     "iopub.execute_input": "2024-01-02T08:46:30.311651Z",
     "iopub.status.busy": "2024-01-02T08:46:30.311258Z",
     "iopub.status.idle": "2024-01-02T08:46:41.664271Z",
     "shell.execute_reply": "2024-01-02T08:46:41.662632Z",
     "shell.execute_reply.started": "2024-01-02T08:46:30.311618Z"
    }
   },
   "outputs": [
    {
     "data": {
      "application/vnd.jupyter.widget-view+json": {
       "model_id": "88a5b9d4e47b4e5e8ee199247548c839",
       "version_major": 2,
       "version_minor": 0
      },
      "text/plain": [
       "VBox()"
      ]
     },
     "metadata": {},
     "output_type": "display_data"
    },
    {
     "data": {
      "application/vnd.jupyter.widget-view+json": {
       "model_id": "",
       "version_major": 2,
       "version_minor": 0
      },
      "text/plain": [
       "FloatProgress(value=0.0, bar_style='info', description='Progress:', layout=Layout(height='25px', width='50%'),…"
      ]
     },
     "metadata": {},
     "output_type": "display_data"
    },
    {
     "name": "stdout",
     "output_type": "stream",
     "text": [
      "root\n",
      " |-- VendorID: integer (nullable = true)\n",
      " |-- lpep_pickup_datetime: timestamp (nullable = true)\n",
      " |-- lpep_dropoff_datetime: timestamp (nullable = true)\n",
      " |-- store_and_fwd_flag: string (nullable = true)\n",
      " |-- RatecodeID: long (nullable = true)\n",
      " |-- PULocationID: integer (nullable = true)\n",
      " |-- DOLocationID: integer (nullable = true)\n",
      " |-- passenger_count: long (nullable = true)\n",
      " |-- trip_distance: double (nullable = true)\n",
      " |-- fare_amount: double (nullable = true)\n",
      " |-- extra: double (nullable = true)\n",
      " |-- mta_tax: double (nullable = true)\n",
      " |-- tip_amount: double (nullable = true)\n",
      " |-- tolls_amount: double (nullable = true)\n",
      " |-- ehail_fee: double (nullable = true)\n",
      " |-- improvement_surcharge: double (nullable = true)\n",
      " |-- total_amount: double (nullable = true)\n",
      " |-- payment_type: long (nullable = true)\n",
      " |-- trip_type: long (nullable = true)\n",
      " |-- congestion_surcharge: double (nullable = true)\n",
      " |-- month: integer (nullable = false)\n",
      " |-- year: integer (nullable = false)\n",
      "\n",
      "(None, 65471)"
     ]
    }
   ],
   "source": [
    "# Reading NYC Green Taxi Data\n",
    "data_bucket = \"my-data-bucket\" # Change here\n",
    "raw_data_path = f\"s3://{data_bucket}/raw_data/nyc_tlc\"\n",
    "green_df = spark.read.format(\"parquet\").load(f\"{raw_data_path}/green/sep2023/\")\n",
    "\n",
    "# adding year and month column\n",
    "green_df = green_df.withColumn(\"month\", lit(9)) \\\n",
    "        .withColumn(\"year\", lit(2023))\n",
    "\n",
    "green_df.printSchema(), green_df.count()"
   ]
  },
  {
   "cell_type": "code",
   "execution_count": 6,
   "id": "e3b52586-769a-48fb-8723-37a22e9b68ef",
   "metadata": {
    "execution": {
     "iopub.execute_input": "2024-01-02T08:47:26.235269Z",
     "iopub.status.busy": "2024-01-02T08:47:26.234902Z",
     "iopub.status.idle": "2024-01-02T08:47:35.553725Z",
     "shell.execute_reply": "2024-01-02T08:47:35.552655Z",
     "shell.execute_reply.started": "2024-01-02T08:47:26.235237Z"
    }
   },
   "outputs": [
    {
     "data": {
      "application/vnd.jupyter.widget-view+json": {
       "model_id": "b1e53ec83d604f8099007bab67bde727",
       "version_major": 2,
       "version_minor": 0
      },
      "text/plain": [
       "VBox()"
      ]
     },
     "metadata": {},
     "output_type": "display_data"
    },
    {
     "data": {
      "application/vnd.jupyter.widget-view+json": {
       "model_id": "",
       "version_major": 2,
       "version_minor": 0
      },
      "text/plain": [
       "FloatProgress(value=0.0, bar_style='info', description='Progress:', layout=Layout(height='25px', width='50%'),…"
      ]
     },
     "metadata": {},
     "output_type": "display_data"
    }
   ],
   "source": [
    "# creating an Iceberg table in glue catalog within nyc_tlc database. default compression is taken as 'zstd'\n",
    "prod_table = \"glue.nyc_tlc.green_taxi_trips\"\n",
    "green_df.writeTo(prod_table).partitionedBy(\"year\", \"month\") \\\n",
    "            .using(\"iceberg\") \\\n",
    "            .tableProperty(\"format-version\", \"2\") \\\n",
    "            .tableProperty(\"write.parquet.compression-codec\", \"snappy\") \\\n",
    "            .create()"
   ]
  },
  {
   "cell_type": "code",
   "execution_count": 7,
   "id": "81dfe556-87c7-43b2-8d63-07be26844edb",
   "metadata": {
    "execution": {
     "iopub.execute_input": "2024-01-02T08:49:00.108766Z",
     "iopub.status.busy": "2024-01-02T08:49:00.108368Z",
     "iopub.status.idle": "2024-01-02T08:49:11.440072Z",
     "shell.execute_reply": "2024-01-02T08:49:11.439176Z",
     "shell.execute_reply.started": "2024-01-02T08:49:00.108733Z"
    }
   },
   "outputs": [
    {
     "data": {
      "application/vnd.jupyter.widget-view+json": {
       "model_id": "0ec41b3068f84a4a9982d124ef185496",
       "version_major": 2,
       "version_minor": 0
      },
      "text/plain": [
       "VBox()"
      ]
     },
     "metadata": {},
     "output_type": "display_data"
    },
    {
     "data": {
      "application/vnd.jupyter.widget-view+json": {
       "model_id": "",
       "version_major": 2,
       "version_minor": 0
      },
      "text/plain": [
       "FloatProgress(value=0.0, bar_style='info', description='Progress:', layout=Layout(height='25px', width='50%'),…"
      ]
     },
     "metadata": {},
     "output_type": "display_data"
    },
    {
     "name": "stdout",
     "output_type": "stream",
     "text": [
      "+----+-----+-----+\n",
      "|year|month|count|\n",
      "+----+-----+-----+\n",
      "|2023|    9|65471|\n",
      "+----+-----+-----+"
     ]
    }
   ],
   "source": [
    "# Check data into prod table\n",
    "spark.table(prod_table).groupBy(\"year\", \"month\").count().show()"
   ]
  },
  {
   "cell_type": "code",
   "execution_count": null,
   "id": "73b50d11-d83b-4bfd-a20f-282252bcc576",
   "metadata": {
    "execution": {
     "iopub.execute_input": "2024-01-02T08:50:00.431206Z",
     "iopub.status.busy": "2024-01-02T08:50:00.430816Z",
     "iopub.status.idle": "2024-01-02T08:50:01.205698Z",
     "shell.execute_reply": "2024-01-02T08:50:01.204881Z",
     "shell.execute_reply.started": "2024-01-02T08:50:00.431174Z"
    }
   },
   "outputs": [],
   "source": [
    "# checking snapshots for the table\n",
    "spark.sql(f\"select * from {prod_table}.snapshots\").show(truncate=False)"
   ]
  },
  {
   "cell_type": "code",
   "execution_count": 9,
   "id": "3287f4c0-1288-4f3f-a07a-5cfeab8a5589",
   "metadata": {
    "execution": {
     "iopub.execute_input": "2024-01-02T08:51:46.049704Z",
     "iopub.status.busy": "2024-01-02T08:51:46.049299Z",
     "iopub.status.idle": "2024-01-02T08:51:57.374078Z",
     "shell.execute_reply": "2024-01-02T08:51:57.373235Z",
     "shell.execute_reply.started": "2024-01-02T08:51:46.049671Z"
    }
   },
   "outputs": [
    {
     "data": {
      "application/vnd.jupyter.widget-view+json": {
       "model_id": "2343cb9856634227aebdcc199b7e1654",
       "version_major": 2,
       "version_minor": 0
      },
      "text/plain": [
       "VBox()"
      ]
     },
     "metadata": {},
     "output_type": "display_data"
    },
    {
     "data": {
      "application/vnd.jupyter.widget-view+json": {
       "model_id": "",
       "version_major": 2,
       "version_minor": 0
      },
      "text/plain": [
       "FloatProgress(value=0.0, bar_style='info', description='Progress:', layout=Layout(height='25px', width='50%'),…"
      ]
     },
     "metadata": {},
     "output_type": "display_data"
    },
    {
     "name": "stdout",
     "output_type": "stream",
     "text": [
      "+----+-----+-----+\n",
      "|year|month|count|\n",
      "+----+-----+-----+\n",
      "|2023|   10|66177|\n",
      "+----+-----+-----+"
     ]
    }
   ],
   "source": [
    "## Source data that will be written later in the table.\n",
    "source_df = spark.read.parquet(f\"{raw_data_path}/green/oct2023/\")\n",
    "source_df = source_df.withColumn(\"month\", lit(10)) \\\n",
    "        .withColumn(\"year\", lit(2023))\n",
    "\n",
    "source_df.groupBy(\"year\", \"month\").count().show()"
   ]
  },
  {
   "cell_type": "markdown",
   "id": "ce398b0f-d5ba-433c-9a23-ff2818415c32",
   "metadata": {},
   "source": [
    "## Setting up things to write `source_df` into `prod_table`"
   ]
  },
  {
   "cell_type": "code",
   "execution_count": 10,
   "id": "919f10e3-172c-44f4-91bb-ebdd93079cce",
   "metadata": {
    "execution": {
     "iopub.execute_input": "2024-01-02T08:52:52.135560Z",
     "iopub.status.busy": "2024-01-02T08:52:52.135189Z",
     "iopub.status.idle": "2024-01-02T08:52:53.409185Z",
     "shell.execute_reply": "2024-01-02T08:52:53.408069Z",
     "shell.execute_reply.started": "2024-01-02T08:52:52.135529Z"
    }
   },
   "outputs": [
    {
     "data": {
      "application/vnd.jupyter.widget-view+json": {
       "model_id": "e08da6d404bd4ca2bd7b08a7bbf64381",
       "version_major": 2,
       "version_minor": 0
      },
      "text/plain": [
       "VBox()"
      ]
     },
     "metadata": {},
     "output_type": "display_data"
    },
    {
     "data": {
      "application/vnd.jupyter.widget-view+json": {
       "model_id": "",
       "version_major": 2,
       "version_minor": 0
      },
      "text/plain": [
       "FloatProgress(value=0.0, bar_style='info', description='Progress:', layout=Layout(height='25px', width='50%'),…"
      ]
     },
     "metadata": {},
     "output_type": "display_data"
    },
    {
     "name": "stdout",
     "output_type": "stream",
     "text": [
      "DataFrame[]"
     ]
    }
   ],
   "source": [
    "# Set write.wap.enabled=true for table to write data into WAP Pattern.\n",
    "\n",
    "spark.sql(f\"ALTER TABLE {prod_table} SET TBLPROPERTIES ('write.wap.enabled'='true')\")"
   ]
  },
  {
   "cell_type": "code",
   "execution_count": 11,
   "id": "2bbc5d08-ff5a-4a04-9f5c-8e7d66715b71",
   "metadata": {
    "execution": {
     "iopub.execute_input": "2024-01-02T08:53:50.301859Z",
     "iopub.status.busy": "2024-01-02T08:53:50.301488Z",
     "iopub.status.idle": "2024-01-02T08:53:50.354523Z",
     "shell.execute_reply": "2024-01-02T08:53:50.353644Z",
     "shell.execute_reply.started": "2024-01-02T08:53:50.301826Z"
    }
   },
   "outputs": [
    {
     "data": {
      "application/vnd.jupyter.widget-view+json": {
       "model_id": "e4e0d6ddadae4450a223edc849500a98",
       "version_major": 2,
       "version_minor": 0
      },
      "text/plain": [
       "VBox()"
      ]
     },
     "metadata": {},
     "output_type": "display_data"
    },
    {
     "data": {
      "application/vnd.jupyter.widget-view+json": {
       "model_id": "",
       "version_major": 2,
       "version_minor": 0
      },
      "text/plain": [
       "FloatProgress(value=0.0, bar_style='info', description='Progress:', layout=Layout(height='25px', width='50%'),…"
      ]
     },
     "metadata": {},
     "output_type": "display_data"
    },
    {
     "name": "stdout",
     "output_type": "stream",
     "text": [
      "fcd54f05ee4b4480a21c191cd5c17f39"
     ]
    }
   ],
   "source": [
    "# As Branching is not available in Iceberg < 1.2.1, \n",
    "# generated a wap.id that will be used to identify the snapshot_id for new data written into table\n",
    "\n",
    "import uuid\n",
    "wap_id = uuid.uuid4().hex\n",
    "\n",
    "# set wap.id in spark session to put it in the summary of snapshot\n",
    "spark.conf.set(\"spark.wap.id\", wap_id)\n",
    "\n",
    "print(wap_id)"
   ]
  },
  {
   "cell_type": "code",
   "execution_count": 12,
   "id": "c5caa312-b377-4018-979a-31de501baa7d",
   "metadata": {
    "execution": {
     "iopub.execute_input": "2024-01-02T08:55:46.007316Z",
     "iopub.status.busy": "2024-01-02T08:55:46.006918Z",
     "iopub.status.idle": "2024-01-02T08:56:09.382913Z",
     "shell.execute_reply": "2024-01-02T08:56:09.381966Z",
     "shell.execute_reply.started": "2024-01-02T08:55:46.007265Z"
    }
   },
   "outputs": [
    {
     "data": {
      "application/vnd.jupyter.widget-view+json": {
       "model_id": "4d9aeca2ae294065bc88461334772f00",
       "version_major": 2,
       "version_minor": 0
      },
      "text/plain": [
       "VBox()"
      ]
     },
     "metadata": {},
     "output_type": "display_data"
    },
    {
     "data": {
      "application/vnd.jupyter.widget-view+json": {
       "model_id": "",
       "version_major": 2,
       "version_minor": 0
      },
      "text/plain": [
       "FloatProgress(value=0.0, bar_style='info', description='Progress:', layout=Layout(height='25px', width='50%'),…"
      ]
     },
     "metadata": {},
     "output_type": "display_data"
    }
   ],
   "source": [
    "# Appending data into Iceberg Prod Table\n",
    "source_df.writeTo(prod_table).append()"
   ]
  },
  {
   "cell_type": "code",
   "execution_count": null,
   "id": "8061519d-b5c7-42f4-afb2-31bc36ccb5d7",
   "metadata": {
    "execution": {
     "iopub.execute_input": "2024-01-02T08:56:55.964964Z",
     "iopub.status.busy": "2024-01-02T08:56:55.964612Z",
     "iopub.status.idle": "2024-01-02T08:56:58.241483Z",
     "shell.execute_reply": "2024-01-02T08:56:58.240528Z",
     "shell.execute_reply.started": "2024-01-02T08:56:55.964933Z"
    }
   },
   "outputs": [],
   "source": [
    "# checking snapshots for the table\n",
    "spark.sql(f\"select * from {prod_table}.snapshots\").show(truncate=False)"
   ]
  },
  {
   "cell_type": "code",
   "execution_count": 14,
   "id": "89a9d075-b03d-431b-aa47-b9e727fb6526",
   "metadata": {
    "execution": {
     "iopub.execute_input": "2024-01-02T08:59:17.773778Z",
     "iopub.status.busy": "2024-01-02T08:59:17.773413Z",
     "iopub.status.idle": "2024-01-02T08:59:29.089650Z",
     "shell.execute_reply": "2024-01-02T08:59:29.088568Z",
     "shell.execute_reply.started": "2024-01-02T08:59:17.773747Z"
    }
   },
   "outputs": [
    {
     "data": {
      "application/vnd.jupyter.widget-view+json": {
       "model_id": "57373d621f844d6aa13f17f6b97885af",
       "version_major": 2,
       "version_minor": 0
      },
      "text/plain": [
       "VBox()"
      ]
     },
     "metadata": {},
     "output_type": "display_data"
    },
    {
     "data": {
      "application/vnd.jupyter.widget-view+json": {
       "model_id": "",
       "version_major": 2,
       "version_minor": 0
      },
      "text/plain": [
       "FloatProgress(value=0.0, bar_style='info', description='Progress:', layout=Layout(height='25px', width='50%'),…"
      ]
     },
     "metadata": {},
     "output_type": "display_data"
    },
    {
     "name": "stdout",
     "output_type": "stream",
     "text": [
      "+----+-----+-----+\n",
      "|year|month|count|\n",
      "+----+-----+-----+\n",
      "|2023|    9|65471|\n",
      "+----+-----+-----+"
     ]
    }
   ],
   "source": [
    "# checking data into Production Table after write\n",
    "spark.table(prod_table).groupBy(\"year\",\"month\").count().show()"
   ]
  },
  {
   "cell_type": "code",
   "execution_count": 15,
   "id": "49a90fd4-4522-4bd3-a0df-f28101e1ab7c",
   "metadata": {
    "execution": {
     "iopub.execute_input": "2024-01-02T09:00:03.350371Z",
     "iopub.status.busy": "2024-01-02T09:00:03.349802Z",
     "iopub.status.idle": "2024-01-02T09:00:04.624112Z",
     "shell.execute_reply": "2024-01-02T09:00:04.622723Z",
     "shell.execute_reply.started": "2024-01-02T09:00:03.350332Z"
    }
   },
   "outputs": [
    {
     "data": {
      "application/vnd.jupyter.widget-view+json": {
       "model_id": "1fb77fb988074dfa8ef28b84ff4dab97",
       "version_major": 2,
       "version_minor": 0
      },
      "text/plain": [
       "VBox()"
      ]
     },
     "metadata": {},
     "output_type": "display_data"
    },
    {
     "data": {
      "application/vnd.jupyter.widget-view+json": {
       "model_id": "",
       "version_major": 2,
       "version_minor": 0
      },
      "text/plain": [
       "FloatProgress(value=0.0, bar_style='info', description='Progress:', layout=Layout(height='25px', width='50%'),…"
      ]
     },
     "metadata": {},
     "output_type": "display_data"
    },
    {
     "name": "stdout",
     "output_type": "stream",
     "text": [
      "+----+-----+-----+\n",
      "|year|month|count|\n",
      "+----+-----+-----+\n",
      "|2023|   10|66177|\n",
      "|2023|    9|65471|\n",
      "+----+-----+-----+"
     ]
    }
   ],
   "source": [
    "# Getting the snapshot_id corresponding to wap_id that was added in Spark Session.\n",
    "staged_data_snap_id = spark.sql(f\"select snapshot_id, summary['wap.id'] as wap_id from {prod_table}.snapshots\").filter(col(\"wap_id\") == wap_id).collect()[0]['snapshot_id']\n",
    "\n",
    "# Reading data in the staged snapshot\n",
    "staged_data = spark.read.option(\"snapshot-id\", staged_data_snap_id).table(prod_table)\n",
    "\n",
    "staged_data.groupBy(\"year\",\"month\").count().show()"
   ]
  },
  {
   "cell_type": "markdown",
   "id": "65ffb934-2577-45b2-bcde-440c85653a51",
   "metadata": {},
   "source": [
    "## Audit\n",
    "\n",
    "- Get snapshot_id corresponding to the wap.id that was generated. -- second last step\n",
    "- Read data based on this snapshot_id. -- last step\n",
    "- Run your DQ tests on it.\n",
    "- Based on DQ Test results, you can choose if this new snapshot needs to be published further or can be expired or deleted."
   ]
  },
  {
   "cell_type": "markdown",
   "id": "c7faf70e-2926-4e76-b2e1-be275b35fe1d",
   "metadata": {},
   "source": [
    "### Running DQ tests using PyDeequ.\n",
    "\n",
    "Let's say your DQ requirement is:\n",
    "- Completeness criteria for `VendorID` should be 1.0 i.e. there are no `null`.\n",
    "- `total_amount` shouldn't be `negative`\n",
    "- `payment_type` should be discrete numbers among 1 to 6."
   ]
  },
  {
   "cell_type": "code",
   "execution_count": 16,
   "id": "f0a98043-5fbb-47df-9851-29276809c5dc",
   "metadata": {
    "execution": {
     "iopub.execute_input": "2024-01-02T09:04:38.573874Z",
     "iopub.status.busy": "2024-01-02T09:04:38.573512Z",
     "iopub.status.idle": "2024-01-02T09:04:49.899041Z",
     "shell.execute_reply": "2024-01-02T09:04:49.898123Z",
     "shell.execute_reply.started": "2024-01-02T09:04:38.573842Z"
    }
   },
   "outputs": [
    {
     "data": {
      "application/vnd.jupyter.widget-view+json": {
       "model_id": "8c7c7b7d902b468c8a1515ea4bb8df6e",
       "version_major": 2,
       "version_minor": 0
      },
      "text/plain": [
       "VBox()"
      ]
     },
     "metadata": {},
     "output_type": "display_data"
    },
    {
     "data": {
      "application/vnd.jupyter.widget-view+json": {
       "model_id": "",
       "version_major": 2,
       "version_minor": 0
      },
      "text/plain": [
       "FloatProgress(value=0.0, bar_style='info', description='Progress:', layout=Layout(height='25px', width='50%'),…"
      ]
     },
     "metadata": {},
     "output_type": "display_data"
    },
    {
     "name": "stdout",
     "output_type": "stream",
     "text": [
      "Verification Run Status: Warning\n",
      "+-------------------+-----------+------------+--------------------------------------------------------------------------------------------------------------------------------------------------+-----------------+-------------------------------------------------------------------+\n",
      "|check              |check_level|check_status|constraint                                                                                                                                        |constraint_status|constraint_message                                                 |\n",
      "+-------------------+-----------+------------+--------------------------------------------------------------------------------------------------------------------------------------------------+-----------------+-------------------------------------------------------------------+\n",
      "|VendorID Checks    |Error      |Success     |CompletenessConstraint(Completeness(VendorID,None))                                                                                               |Success          |                                                                   |\n",
      "|payment_type Checks|Error      |Success     |ComplianceConstraint(Compliance(payment_type contained in 1,2,3,4,5,6,`payment_type` IS NULL OR `payment_type` IN ('1','2','3','4','5','6'),None))|Success          |                                                                   |\n",
      "|total_amount Checks|Warning    |Warning     |ComplianceConstraint(Compliance(total_amount is non-negative,COALESCE(CAST(total_amount AS DECIMAL(20,10)), 0.0) >= 0,None))                      |Failure          |Value: 0.9968780384054449 does not meet the constraint requirement!|\n",
      "+-------------------+-----------+------------+--------------------------------------------------------------------------------------------------------------------------------------------------+-----------------+-------------------------------------------------------------------+\n",
      "\n",
      "/mnt/yarn/usercache/livy/appcache/application_1704184584490_0001/container_1704184584490_0001_01_000001/pyspark.zip/pyspark/sql/dataframe.py:127: UserWarning: DataFrame constructor is internal. Do not directly use it.\n",
      "  warnings.warn(\"DataFrame constructor is internal. Do not directly use it.\")"
     ]
    }
   ],
   "source": [
    "from pydeequ.checks import *\n",
    "from pydeequ.verification import *\n",
    "\n",
    "# Check represents a list of constraints that can be applied to a provided Spark Dataframe\n",
    "vendorID_checks = Check(spark, CheckLevel.Error, \"VendorID Checks\")\n",
    "payment_type_checks = Check(spark, CheckLevel.Error, \"payment_type Checks\")\n",
    "tot_amt_checks = Check(spark, CheckLevel.Warning, \"total_amount Checks\")\n",
    "\n",
    "\n",
    "checkResult = VerificationSuite(spark) \\\n",
    "    .onData(staged_data) \\\n",
    "    .addCheck(vendorID_checks.isComplete(\"VendorID\")) \\\n",
    "    .addCheck(payment_type_checks.isContainedIn(\"payment_type\", ['1','2','3','4','5','6'])) \\\n",
    "    .addCheck(tot_amt_checks.isNonNegative(\"total_amount\")) \\\n",
    "    .run()\n",
    "\n",
    "print(f\"Verification Run Status: {checkResult.status}\")\n",
    "checkResult_df = VerificationResult.checkResultsAsDataFrame(spark, checkResult)\n",
    "checkResult_df.show(truncate=False)"
   ]
  },
  {
   "cell_type": "markdown",
   "id": "6bebc883-a622-482c-a083-13ec5d61572c",
   "metadata": {},
   "source": [
    "- Non-negative constraint failed for `total_amount`\n",
    "\n",
    "We can make a decision whether to `expire` this snapshot and not publish anything or clean the data and publish the cleaned data. Let's assume based on discussion with stakeholders:\n",
    "\n",
    "- `non-negative` values in `total_amount` columns can be filtered out and can be written as bad data.\n",
    "- filter the `non-negative` values and publish the cleaned data into Production."
   ]
  },
  {
   "cell_type": "code",
   "execution_count": null,
   "id": "baaca589-5600-4d00-9276-f2bd14c37dda",
   "metadata": {},
   "outputs": [],
   "source": [
    "# for expiring snapshot i.e. not publishing anything becasue DQ checks are failed. Call the procedure below\n",
    "# spark.sql(f\"CALL local.system.expire_snapshots(table => '{prod_table}', snapshot_ids => ARRAY({staged_data_snap_id}))\")"
   ]
  },
  {
   "cell_type": "code",
   "execution_count": 17,
   "id": "d3cd6174-ed29-40a2-89c7-448ba96b26ff",
   "metadata": {
    "execution": {
     "iopub.execute_input": "2024-01-02T09:10:49.480400Z",
     "iopub.status.busy": "2024-01-02T09:10:49.479980Z",
     "iopub.status.idle": "2024-01-02T09:11:00.802463Z",
     "shell.execute_reply": "2024-01-02T09:11:00.801532Z",
     "shell.execute_reply.started": "2024-01-02T09:10:49.480367Z"
    }
   },
   "outputs": [
    {
     "data": {
      "application/vnd.jupyter.widget-view+json": {
       "model_id": "79f6ac5ff2414a539189453a0443ceb7",
       "version_major": 2,
       "version_minor": 0
      },
      "text/plain": [
       "VBox()"
      ]
     },
     "metadata": {},
     "output_type": "display_data"
    },
    {
     "data": {
      "application/vnd.jupyter.widget-view+json": {
       "model_id": "",
       "version_major": 2,
       "version_minor": 0
      },
      "text/plain": [
       "FloatProgress(value=0.0, bar_style='info', description='Progress:', layout=Layout(height='25px', width='50%'),…"
      ]
     },
     "metadata": {},
     "output_type": "display_data"
    },
    {
     "name": "stdout",
     "output_type": "stream",
     "text": [
      "+----+-----+-----+\n",
      "|year|month|count|\n",
      "+----+-----+-----+\n",
      "|2023|   10|65974|\n",
      "|2023|    9|65263|\n",
      "+----+-----+-----+"
     ]
    }
   ],
   "source": [
    "# filtering out the non negative data from staged_df\n",
    "cleaned_df = staged_data.filter(col(\"total_amount\") >= 0)\n",
    "cleaned_df.groupBy(\"year\",\"month\").count().show()"
   ]
  },
  {
   "cell_type": "code",
   "execution_count": 18,
   "id": "6a9595b6-8371-4ece-950e-fb6fcbfd9d6b",
   "metadata": {
    "execution": {
     "iopub.execute_input": "2024-01-02T09:13:44.946003Z",
     "iopub.status.busy": "2024-01-02T09:13:44.945649Z",
     "iopub.status.idle": "2024-01-02T09:14:04.287647Z",
     "shell.execute_reply": "2024-01-02T09:14:04.286635Z",
     "shell.execute_reply.started": "2024-01-02T09:13:44.945972Z"
    }
   },
   "outputs": [
    {
     "data": {
      "application/vnd.jupyter.widget-view+json": {
       "model_id": "3a8f638537674025bfd4d251146d48aa",
       "version_major": 2,
       "version_minor": 0
      },
      "text/plain": [
       "VBox()"
      ]
     },
     "metadata": {},
     "output_type": "display_data"
    },
    {
     "data": {
      "application/vnd.jupyter.widget-view+json": {
       "model_id": "",
       "version_major": 2,
       "version_minor": 0
      },
      "text/plain": [
       "FloatProgress(value=0.0, bar_style='info', description='Progress:', layout=Layout(height='25px', width='50%'),…"
      ]
     },
     "metadata": {},
     "output_type": "display_data"
    }
   ],
   "source": [
    "# write cleaned data into prod table.\n",
    "cleaned_df.writeTo(prod_table).overwritePartitions()"
   ]
  },
  {
   "cell_type": "markdown",
   "id": "1f88041b-d8fe-4ce7-bfc5-eb32afb8293e",
   "metadata": {},
   "source": [
    "### Note:\n",
    "\n",
    "- An important thing to note here is: As we have rewritten the data into `staged` snapshot, this will create a new `snapshot_id`, so the final data that needs to be published into `Production` table should be of this new `snapshot_id`"
   ]
  },
  {
   "cell_type": "code",
   "execution_count": null,
   "id": "153f2af5-4f90-4760-a131-9d2b622d4034",
   "metadata": {
    "execution": {
     "iopub.execute_input": "2024-01-02T09:16:49.076170Z",
     "iopub.status.busy": "2024-01-02T09:16:49.075821Z",
     "iopub.status.idle": "2024-01-02T09:16:58.389153Z",
     "shell.execute_reply": "2024-01-02T09:16:58.388190Z",
     "shell.execute_reply.started": "2024-01-02T09:16:49.076139Z"
    }
   },
   "outputs": [],
   "source": [
    "# Checking the snapshots again\n",
    "spark.sql(f\"select * from {prod_table}.snapshots\").show(truncate=False)"
   ]
  },
  {
   "cell_type": "markdown",
   "id": "134ff925",
   "metadata": {},
   "source": [
    "```sql\n",
    "+-----------------------+-------------------+-------------------+---------+--------------------------------------------------------------------------------------------------------------------------------------------+-------------------------------------------------------------------------------------------------------------------------------------------------------------------------------------------------------------------------------------------------------------------------------------------------------------------------------------------------------------------------------------------------------------------------------------------------------------------------------------+\n",
    "|committed_at           |snapshot_id        |parent_id          |operation|manifest_list                                                                                                                               |summary                                                                                                                                                                                                                                                                                                                                                                                                                                                                              |\n",
    "+-----------------------+-------------------+-------------------+---------+--------------------------------------------------------------------------------------------------------------------------------------------+-------------------------------------------------------------------------------------------------------------------------------------------------------------------------------------------------------------------------------------------------------------------------------------------------------------------------------------------------------------------------------------------------------------------------------------------------------------------------------------+\n",
    "|2024-01-02 08:47:33.829|4002909337217387123|null               |append   |s3://<glue_db_path>/green_taxi_trips/metadata/snap-4002909337217387123-1-a0d0113f-ad2e-4edf-a7a5-3716ca6c897b.avro|{spark.app.id -> application_1704184584490_0001, added-data-files -> 1, added-records -> 65471, added-files-size -> 1514631, changed-partition-count -> 1, total-records -> 65471, total-files-size -> 1514631, total-data-files -> 1, total-delete-files -> 0, total-position-deletes -> 0, total-equality-deletes -> 0}                                                                                                                                                            |\n",
    "|2024-01-02 08:56:07.165|7270839791374367070|4002909337217387123|append   |s3://<glue_db_path>/green_taxi_trips/metadata/snap-7270839791374367070-1-26181e44-1f0d-47e2-8e88-febb7f2c1e7d.avro|{spark.app.id -> application_1704184584490_0001, wap.id -> fcd54f05ee4b4480a21c191cd5c17f39, added-data-files -> 1, added-records -> 66177, added-files-size -> 1519040, changed-partition-count -> 1, total-records -> 131648, total-files-size -> 3033671, total-data-files -> 2, total-delete-files -> 0, total-position-deletes -> 0, total-equality-deletes -> 0}                                                                                                               |\n",
    "|2024-01-02 09:14:03.382|8254249659682978316|4002909337217387123|overwrite|s3://<glue_db_path>/green_taxi_trips/metadata/snap-8254249659682978316-1-70060bcd-8b81-4e00-b26c-92ecca1145bd.avro|{spark.app.id -> application_1704184584490_0001, replace-partitions -> true, wap.id -> fcd54f05ee4b4480a21c191cd5c17f39, added-data-files -> 2, deleted-data-files -> 1, added-records -> 131237, deleted-records -> 65471, added-files-size -> 3022251, removed-files-size -> 1514631, changed-partition-count -> 2, total-records -> 131237, total-files-size -> 3022251, total-data-files -> 2, total-delete-files -> 0, total-position-deletes -> 0, total-equality-deletes -> 0}|\n",
    "+-----------------------+-------------------+-------------------+---------+--------------------------------------------------------------------------------------------------------------------------------------------+-------------------------------------------------------------------------------------------------------------------------------------------------------------------------------------------------------------------------------------------------------------------------------------------------------------------------------------------------------------------------------------------------------------------------------------------------------------------------------------+\n"
   ]
  },
  {
   "cell_type": "markdown",
   "id": "9f493980-f6f4-4bcc-a8cf-6579fcdde651",
   "metadata": {},
   "source": [
    "- Now we have 2 `snapshot_id` (`7270839791374367070` and `8254249659682978316`) corresponding to the `wap.id` i.e. `fcd54f05ee4b4480a21c191cd5c17f39` written at the different times i.e. `commited_at`\n",
    "- Data that needs to be published in Production Table should be the cleaned data i.e. of `snapshot_id=8254249659682978316`"
   ]
  },
  {
   "cell_type": "markdown",
   "id": "da8a6cc6-a59e-4284-a3f3-8a42bb848b16",
   "metadata": {},
   "source": [
    "## Publish"
   ]
  },
  {
   "cell_type": "code",
   "execution_count": 20,
   "id": "a638db7f-acd0-4a61-b59f-9ba485424871",
   "metadata": {
    "execution": {
     "iopub.execute_input": "2024-01-02T09:21:46.699035Z",
     "iopub.status.busy": "2024-01-02T09:21:46.698672Z",
     "iopub.status.idle": "2024-01-02T09:21:56.006787Z",
     "shell.execute_reply": "2024-01-02T09:21:56.005756Z",
     "shell.execute_reply.started": "2024-01-02T09:21:46.699003Z"
    }
   },
   "outputs": [
    {
     "data": {
      "application/vnd.jupyter.widget-view+json": {
       "model_id": "971e3c67beb34ce184c20560b3a861ae",
       "version_major": 2,
       "version_minor": 0
      },
      "text/plain": [
       "VBox()"
      ]
     },
     "metadata": {},
     "output_type": "display_data"
    },
    {
     "data": {
      "application/vnd.jupyter.widget-view+json": {
       "model_id": "",
       "version_major": 2,
       "version_minor": 0
      },
      "text/plain": [
       "FloatProgress(value=0.0, bar_style='info', description='Progress:', layout=Layout(height='25px', width='50%'),…"
      ]
     },
     "metadata": {},
     "output_type": "display_data"
    },
    {
     "name": "stdout",
     "output_type": "stream",
     "text": [
      "8254249659682978316"
     ]
    }
   ],
   "source": [
    "# Get the latest snapshot_id to the corresponding wap.id based on committed_at date\n",
    "udpated_data_snap_id = spark.sql(f\"select snapshot_id, summary['wap.id'] as wap_id from {prod_table}.snapshots\").filter(col(\"wap_id\") == wap_id).orderBy(col(\"committed_at\").desc()).collect()[0]['snapshot_id']\n",
    "udpated_data_snap_id"
   ]
  },
  {
   "cell_type": "code",
   "execution_count": 22,
   "id": "15d78571-7e2a-429f-a649-46617360d1a6",
   "metadata": {
    "execution": {
     "iopub.execute_input": "2024-01-02T09:22:56.957311Z",
     "iopub.status.busy": "2024-01-02T09:22:56.956945Z",
     "iopub.status.idle": "2024-01-02T09:23:06.282381Z",
     "shell.execute_reply": "2024-01-02T09:23:06.281497Z",
     "shell.execute_reply.started": "2024-01-02T09:22:56.957279Z"
    },
    "tags": []
   },
   "outputs": [
    {
     "data": {
      "application/vnd.jupyter.widget-view+json": {
       "model_id": "8cbecdcb492d49fdb075d592cefcefde",
       "version_major": 2,
       "version_minor": 0
      },
      "text/plain": [
       "VBox()"
      ]
     },
     "metadata": {},
     "output_type": "display_data"
    },
    {
     "data": {
      "application/vnd.jupyter.widget-view+json": {
       "model_id": "",
       "version_major": 2,
       "version_minor": 0
      },
      "text/plain": [
       "FloatProgress(value=0.0, bar_style='info', description='Progress:', layout=Layout(height='25px', width='50%'),…"
      ]
     },
     "metadata": {},
     "output_type": "display_data"
    },
    {
     "name": "stdout",
     "output_type": "stream",
     "text": [
      "+-------------------+-------------------+\n",
      "| source_snapshot_id|current_snapshot_id|\n",
      "+-------------------+-------------------+\n",
      "|8254249659682978316|8254249659682978316|\n",
      "+-------------------+-------------------+"
     ]
    }
   ],
   "source": [
    "# Publish this snapshot_id in production\n",
    "spark.sql(f\"CALL glue.system.cherrypick_snapshot('{prod_table}', {udpated_data_snap_id})\").show()"
   ]
  },
  {
   "cell_type": "code",
   "execution_count": 23,
   "id": "29cbd0c3-b369-41e0-9bcf-906d0cb639ce",
   "metadata": {
    "execution": {
     "iopub.execute_input": "2024-01-02T09:23:56.763854Z",
     "iopub.status.busy": "2024-01-02T09:23:56.763496Z",
     "iopub.status.idle": "2024-01-02T09:24:02.072197Z",
     "shell.execute_reply": "2024-01-02T09:24:02.071397Z",
     "shell.execute_reply.started": "2024-01-02T09:23:56.763823Z"
    }
   },
   "outputs": [
    {
     "data": {
      "application/vnd.jupyter.widget-view+json": {
       "model_id": "940dc68ed82c495baf09d791a7779881",
       "version_major": 2,
       "version_minor": 0
      },
      "text/plain": [
       "VBox()"
      ]
     },
     "metadata": {},
     "output_type": "display_data"
    },
    {
     "data": {
      "application/vnd.jupyter.widget-view+json": {
       "model_id": "",
       "version_major": 2,
       "version_minor": 0
      },
      "text/plain": [
       "FloatProgress(value=0.0, bar_style='info', description='Progress:', layout=Layout(height='25px', width='50%'),…"
      ]
     },
     "metadata": {},
     "output_type": "display_data"
    },
    {
     "name": "stdout",
     "output_type": "stream",
     "text": [
      "+----+-----+-----+\n",
      "|year|month|count|\n",
      "+----+-----+-----+\n",
      "|2023|   10|65974|\n",
      "|2023|    9|65263|\n",
      "+----+-----+-----+"
     ]
    }
   ],
   "source": [
    "### Verify the data into Production table now\n",
    "spark.table(prod_table).groupBy(\"year\",\"month\").count().show()"
   ]
  },
  {
   "cell_type": "markdown",
   "id": "83d77061-bb12-49f0-b4e9-f45749b00f00",
   "metadata": {},
   "source": [
    "## Unsetting `write.wap.enabled` from table properties"
   ]
  },
  {
   "cell_type": "code",
   "execution_count": 24,
   "id": "9af79aaf-50bf-473f-a933-46d1cc916cd8",
   "metadata": {
    "execution": {
     "iopub.execute_input": "2024-01-02T09:27:22.629236Z",
     "iopub.status.busy": "2024-01-02T09:27:22.628856Z",
     "iopub.status.idle": "2024-01-02T09:27:23.895008Z",
     "shell.execute_reply": "2024-01-02T09:27:23.893788Z",
     "shell.execute_reply.started": "2024-01-02T09:27:22.629203Z"
    }
   },
   "outputs": [
    {
     "data": {
      "application/vnd.jupyter.widget-view+json": {
       "model_id": "c3c6012d73734551b0a2a026b8dc213a",
       "version_major": 2,
       "version_minor": 0
      },
      "text/plain": [
       "VBox()"
      ]
     },
     "metadata": {},
     "output_type": "display_data"
    },
    {
     "data": {
      "application/vnd.jupyter.widget-view+json": {
       "model_id": "",
       "version_major": 2,
       "version_minor": 0
      },
      "text/plain": [
       "FloatProgress(value=0.0, bar_style='info', description='Progress:', layout=Layout(height='25px', width='50%'),…"
      ]
     },
     "metadata": {},
     "output_type": "display_data"
    },
    {
     "name": "stdout",
     "output_type": "stream",
     "text": [
      "DataFrame[]"
     ]
    }
   ],
   "source": [
    "# unset from table properties so that create table ddl can be seen again on Athena.\n",
    "spark.sql(f\"ALTER TABLE {prod_table} UNSET TBLPROPERTIES ('write.wap.enabled')\")"
   ]
  },
  {
   "cell_type": "code",
   "execution_count": null,
   "id": "7ed8e654-24aa-4517-8d3d-5e7689681d33",
   "metadata": {},
   "outputs": [],
   "source": []
  }
 ],
 "metadata": {
  "kernelspec": {
   "display_name": "PySpark",
   "language": "python",
   "name": "pysparkkernel"
  },
  "language_info": {
   "codemirror_mode": {
    "name": "python",
    "version": 3
   },
   "file_extension": ".py",
   "mimetype": "text/x-python",
   "name": "pyspark",
   "pygments_lexer": "python3"
  }
 },
 "nbformat": 4,
 "nbformat_minor": 5
}
