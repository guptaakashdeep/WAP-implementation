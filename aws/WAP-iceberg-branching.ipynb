{
 "cells": [
  {
   "cell_type": "markdown",
   "id": "6bf96359-ce02-4630-9394-74ccaacffa47",
   "metadata": {},
   "source": [
    "# WAP using Branch\n",
    "\n",
    "- Since Iceberg version > 1.2.0, Iceberg has feature of branching and tagging\n",
    "- This notebook shows how to implement WAP on AWS"
   ]
  },
  {
   "cell_type": "code",
   "execution_count": null,
   "id": "7fd183f2-9291-4c15-b040-bd38e99ca43d",
   "metadata": {
    "execution": {
     "iopub.execute_input": "2023-12-27T11:48:44.115525Z",
     "iopub.status.busy": "2023-12-27T11:48:44.115267Z",
     "iopub.status.idle": "2023-12-27T11:49:52.546393Z",
     "shell.execute_reply": "2023-12-27T11:49:52.545413Z",
     "shell.execute_reply.started": "2023-12-27T11:48:44.115493Z"
    },
    "tags": []
   },
   "outputs": [],
   "source": [
    "%%configure\n",
    "{\n",
    "    \"conf\": {\n",
    "      \"spark.sql.extensions\": \"org.apache.iceberg.spark.extensions.IcebergSparkSessionExtensions\",\n",
    "      \"spark.sql.catalog.glue\": \"org.apache.iceberg.spark.SparkCatalog\",\n",
    "        \"spark.sql.catalog.glue.catalog-impl\":\"org.apache.iceberg.aws.glue.GlueCatalog\",\n",
    "        \"spark.sql.catalog.glue.io-impl\":\"org.apache.iceberg.aws.s3.S3FileIO\",\n",
    "        \"spark.sql.catalog.glue.warehouse\":\"s3://<s3_bucket>/glue/warehouse\"\n",
    "    }\n",
    "}"
   ]
  },
  {
   "cell_type": "markdown",
   "id": "f7690589",
   "metadata": {},
   "source": [
    "## Creating a Production Table from Sep 2023 Yellow Taxi Trips Data\n",
    "\n",
    "- This data can be found [here](https://www.nyc.gov/site/tlc/about/tlc-trip-record-data.page)"
   ]
  },
  {
   "cell_type": "code",
   "execution_count": 25,
   "id": "cc65f940-94e3-41ca-a7ce-28d87e63a1c1",
   "metadata": {
    "execution": {
     "iopub.execute_input": "2023-12-27T11:50:55.511283Z",
     "iopub.status.busy": "2023-12-27T11:50:55.511010Z",
     "iopub.status.idle": "2023-12-27T11:51:06.845283Z",
     "shell.execute_reply": "2023-12-27T11:51:06.844310Z",
     "shell.execute_reply.started": "2023-12-27T11:50:55.511252Z"
    },
    "tags": []
   },
   "outputs": [
    {
     "data": {
      "application/vnd.jupyter.widget-view+json": {
       "model_id": "2900704fb83f4806a9f73092f9e1bae2",
       "version_major": 2,
       "version_minor": 0
      },
      "text/plain": [
       "VBox()"
      ]
     },
     "metadata": {},
     "output_type": "display_data"
    },
    {
     "data": {
      "application/vnd.jupyter.widget-view+json": {
       "model_id": "",
       "version_major": 2,
       "version_minor": 0
      },
      "text/plain": [
       "FloatProgress(value=0.0, bar_style='info', description='Progress:', layout=Layout(height='25px', width='50%'),…"
      ]
     },
     "metadata": {},
     "output_type": "display_data"
    }
   ],
   "source": [
    "from pyspark.sql.functions import lit, col\n",
    "\n",
    "# Reading NYC Yellow Taxi Data\n",
    "data_bucket = \"my-data-bucket\" # Change here\n",
    "raw_data_path = f\"s3://{data_bucket}/raw_data/nyc_tlc\"\n",
    "yellow_df = spark.read.format(\"parquet\").load(f\"{raw_data_path}/yellow/sep2023/\")"
   ]
  },
  {
   "cell_type": "code",
   "execution_count": 26,
   "id": "d3da2425-8362-4f64-846a-50707d14e7a1",
   "metadata": {
    "execution": {
     "iopub.execute_input": "2023-12-27T11:51:06.847051Z",
     "iopub.status.busy": "2023-12-27T11:51:06.846820Z",
     "iopub.status.idle": "2023-12-27T11:51:07.120497Z",
     "shell.execute_reply": "2023-12-27T11:51:07.119457Z",
     "shell.execute_reply.started": "2023-12-27T11:51:06.847020Z"
    },
    "tags": []
   },
   "outputs": [
    {
     "data": {
      "application/vnd.jupyter.widget-view+json": {
       "model_id": "4acd86f9604b4abcbfd56b6290a6f2d9",
       "version_major": 2,
       "version_minor": 0
      },
      "text/plain": [
       "VBox()"
      ]
     },
     "metadata": {},
     "output_type": "display_data"
    },
    {
     "data": {
      "application/vnd.jupyter.widget-view+json": {
       "model_id": "",
       "version_major": 2,
       "version_minor": 0
      },
      "text/plain": [
       "FloatProgress(value=0.0, bar_style='info', description='Progress:', layout=Layout(height='25px', width='50%'),…"
      ]
     },
     "metadata": {},
     "output_type": "display_data"
    },
    {
     "name": "stdout",
     "output_type": "stream",
     "text": [
      "root\n",
      " |-- VendorID: integer (nullable = true)\n",
      " |-- tpep_pickup_datetime: timestamp_ntz (nullable = true)\n",
      " |-- tpep_dropoff_datetime: timestamp_ntz (nullable = true)\n",
      " |-- passenger_count: long (nullable = true)\n",
      " |-- trip_distance: double (nullable = true)\n",
      " |-- RatecodeID: long (nullable = true)\n",
      " |-- store_and_fwd_flag: string (nullable = true)\n",
      " |-- PULocationID: integer (nullable = true)\n",
      " |-- DOLocationID: integer (nullable = true)\n",
      " |-- payment_type: long (nullable = true)\n",
      " |-- fare_amount: double (nullable = true)\n",
      " |-- extra: double (nullable = true)\n",
      " |-- mta_tax: double (nullable = true)\n",
      " |-- tip_amount: double (nullable = true)\n",
      " |-- tolls_amount: double (nullable = true)\n",
      " |-- improvement_surcharge: double (nullable = true)\n",
      " |-- total_amount: double (nullable = true)\n",
      " |-- congestion_surcharge: double (nullable = true)\n",
      " |-- Airport_fee: double (nullable = true)"
     ]
    }
   ],
   "source": [
    "yellow_df.printSchema()"
   ]
  },
  {
   "cell_type": "code",
   "execution_count": 27,
   "id": "288cb1ff-2a57-40d3-a1dd-b254f022f99e",
   "metadata": {
    "execution": {
     "iopub.execute_input": "2023-12-27T11:51:11.676856Z",
     "iopub.status.busy": "2023-12-27T11:51:11.676605Z",
     "iopub.status.idle": "2023-12-27T11:51:11.960397Z",
     "shell.execute_reply": "2023-12-27T11:51:11.959156Z",
     "shell.execute_reply.started": "2023-12-27T11:51:11.676826Z"
    },
    "tags": []
   },
   "outputs": [
    {
     "data": {
      "application/vnd.jupyter.widget-view+json": {
       "model_id": "e4c6290491b34ab8900053fc0b743914",
       "version_major": 2,
       "version_minor": 0
      },
      "text/plain": [
       "VBox()"
      ]
     },
     "metadata": {},
     "output_type": "display_data"
    },
    {
     "data": {
      "application/vnd.jupyter.widget-view+json": {
       "model_id": "",
       "version_major": 2,
       "version_minor": 0
      },
      "text/plain": [
       "FloatProgress(value=0.0, bar_style='info', description='Progress:', layout=Layout(height='25px', width='50%'),…"
      ]
     },
     "metadata": {},
     "output_type": "display_data"
    }
   ],
   "source": [
    "# adding year and month column\n",
    "yellow_df = yellow_df.withColumn(\"month\", lit(9)) \\\n",
    "        .withColumn(\"year\", lit(2023))"
   ]
  },
  {
   "cell_type": "code",
   "execution_count": 28,
   "id": "c7ca2dd5-be54-4342-ae21-cb34593c4681",
   "metadata": {
    "execution": {
     "iopub.execute_input": "2023-12-27T11:52:39.499613Z",
     "iopub.status.busy": "2023-12-27T11:52:39.499348Z",
     "iopub.status.idle": "2023-12-27T11:53:04.873427Z",
     "shell.execute_reply": "2023-12-27T11:53:04.872611Z",
     "shell.execute_reply.started": "2023-12-27T11:52:39.499582Z"
    },
    "tags": []
   },
   "outputs": [
    {
     "data": {
      "application/vnd.jupyter.widget-view+json": {
       "model_id": "faf5b6b3c31a4b94833c27aa88210059",
       "version_major": 2,
       "version_minor": 0
      },
      "text/plain": [
       "VBox()"
      ]
     },
     "metadata": {},
     "output_type": "display_data"
    },
    {
     "data": {
      "application/vnd.jupyter.widget-view+json": {
       "model_id": "",
       "version_major": 2,
       "version_minor": 0
      },
      "text/plain": [
       "FloatProgress(value=0.0, bar_style='info', description='Progress:', layout=Layout(height='25px', width='50%'),…"
      ]
     },
     "metadata": {},
     "output_type": "display_data"
    }
   ],
   "source": [
    "# creating an Iceberg table in glue catalog within nyc_tlc database. default compression is taken as 'zstd'\n",
    "yellow_df.writeTo(\"glue.nyc_tlc.yellow_taxi_trips\").partitionedBy(\"year\", \"month\").using(\"iceberg\") \\\n",
    "            .tableProperty(\"format-version\", \"2\") \\\n",
    "            .tableProperty(\"write.parquet.compression-codec\", \"snappy\") \\\n",
    "            .create()"
   ]
  },
  {
   "cell_type": "markdown",
   "id": "a71cf7e4-1b60-4480-b573-182543ba69b3",
   "metadata": {},
   "source": [
    "```sql\n",
    "CREATE TABLE nyc_tlc.yellow_taxi_trips (\n",
    "  VendorID int,\n",
    "  tpep_pickup_datetime timestamp,\n",
    "  tpep_dropoff_datetime timestamp,\n",
    "  passenger_count bigint,\n",
    "  trip_distance double,\n",
    "  RatecodeID bigint,\n",
    "  store_and_fwd_flag string,\n",
    "  PULocationID int,\n",
    "  DOLocationID int,\n",
    "  payment_type bigint,\n",
    "  fare_amount double,\n",
    "  extra double,\n",
    "  mta_tax double,\n",
    "  tip_amount double,\n",
    "  tolls_amount double,\n",
    "  improvement_surcharge double,\n",
    "  total_amount double,\n",
    "  congestion_surcharge double,\n",
    "  Airport_fee double,\n",
    "  month int,\n",
    "  year int)\n",
    "PARTITIONED BY (`year`, `month`)\n",
    "LOCATION '<glue_db_location>/yellow_taxi_trips'\n",
    "TBLPROPERTIES (\n",
    "  'table_type'='iceberg',\n",
    "  'write_compression'='snappy'\n",
    ");\n",
    "```"
   ]
  },
  {
   "cell_type": "code",
   "execution_count": 30,
   "id": "45fde8e3-b3f4-442f-9bcc-479c539f6460",
   "metadata": {
    "execution": {
     "iopub.execute_input": "2023-12-27T11:55:17.630001Z",
     "iopub.status.busy": "2023-12-27T11:55:17.629738Z",
     "iopub.status.idle": "2023-12-27T11:55:26.947382Z",
     "shell.execute_reply": "2023-12-27T11:55:26.946329Z",
     "shell.execute_reply.started": "2023-12-27T11:55:17.629969Z"
    },
    "tags": []
   },
   "outputs": [
    {
     "data": {
      "application/vnd.jupyter.widget-view+json": {
       "model_id": "f1767bd32f99488c87d1a846e946c68b",
       "version_major": 2,
       "version_minor": 0
      },
      "text/plain": [
       "VBox()"
      ]
     },
     "metadata": {},
     "output_type": "display_data"
    },
    {
     "data": {
      "application/vnd.jupyter.widget-view+json": {
       "model_id": "",
       "version_major": 2,
       "version_minor": 0
      },
      "text/plain": [
       "FloatProgress(value=0.0, bar_style='info', description='Progress:', layout=Layout(height='25px', width='50%'),…"
      ]
     },
     "metadata": {},
     "output_type": "display_data"
    },
    {
     "name": "stdout",
     "output_type": "stream",
     "text": [
      "+----+------+-------------------+-----------------------+---------------------+----------------------+\n",
      "|name|type  |snapshot_id        |max_reference_age_in_ms|min_snapshots_to_keep|max_snapshot_age_in_ms|\n",
      "+----+------+-------------------+-----------------------+---------------------+----------------------+\n",
      "|main|BRANCH|2498870574022386457|null                   |null                 |null                  |\n",
      "+----+------+-------------------+-----------------------+---------------------+----------------------+"
     ]
    }
   ],
   "source": [
    "# checking the refrences in the table\n",
    "spark.sql(\"select * from glue.nyc_tlc.yellow_taxi_trips.refs\").show(truncate=False)"
   ]
  },
  {
   "cell_type": "code",
   "execution_count": 33,
   "id": "405d8dd6-2dbf-4450-9e4f-9de81ee64fc1",
   "metadata": {
    "execution": {
     "iopub.execute_input": "2023-12-27T12:00:54.174879Z",
     "iopub.status.busy": "2023-12-27T12:00:54.174615Z",
     "iopub.status.idle": "2023-12-27T12:01:07.500258Z",
     "shell.execute_reply": "2023-12-27T12:01:07.499421Z",
     "shell.execute_reply.started": "2023-12-27T12:00:54.174848Z"
    }
   },
   "outputs": [
    {
     "data": {
      "application/vnd.jupyter.widget-view+json": {
       "model_id": "77bf7aabe37641148270b409d7cd0ed8",
       "version_major": 2,
       "version_minor": 0
      },
      "text/plain": [
       "VBox()"
      ]
     },
     "metadata": {},
     "output_type": "display_data"
    },
    {
     "data": {
      "application/vnd.jupyter.widget-view+json": {
       "model_id": "",
       "version_major": 2,
       "version_minor": 0
      },
      "text/plain": [
       "FloatProgress(value=0.0, bar_style='info', description='Progress:', layout=Layout(height='25px', width='50%'),…"
      ]
     },
     "metadata": {},
     "output_type": "display_data"
    },
    {
     "name": "stdout",
     "output_type": "stream",
     "text": [
      "+----+-----+-------+\n",
      "|year|month|  count|\n",
      "+----+-----+-------+\n",
      "|2023|    9|2846722|\n",
      "+----+-----+-------+"
     ]
    }
   ],
   "source": [
    "# Check data into prod table\n",
    "spark.table(prod_table).groupBy(\"year\", \"month\").count().show()"
   ]
  },
  {
   "cell_type": "markdown",
   "id": "f8d2f8ed",
   "metadata": {},
   "source": [
    "### Preparing Source Data\n",
    "\n",
    "- This data will be written in Production table created above using WAP Pattern."
   ]
  },
  {
   "cell_type": "code",
   "execution_count": 45,
   "id": "672ce070-be0b-43b3-94ec-78caaa653d5e",
   "metadata": {
    "execution": {
     "iopub.execute_input": "2023-12-27T12:25:03.199711Z",
     "iopub.status.busy": "2023-12-27T12:25:03.199449Z",
     "iopub.status.idle": "2023-12-27T12:25:14.512590Z",
     "shell.execute_reply": "2023-12-27T12:25:14.511810Z",
     "shell.execute_reply.started": "2023-12-27T12:25:03.199679Z"
    }
   },
   "outputs": [
    {
     "data": {
      "application/vnd.jupyter.widget-view+json": {
       "model_id": "04d2a8182c3343978b6b6c466fddcdb2",
       "version_major": 2,
       "version_minor": 0
      },
      "text/plain": [
       "VBox()"
      ]
     },
     "metadata": {},
     "output_type": "display_data"
    },
    {
     "data": {
      "application/vnd.jupyter.widget-view+json": {
       "model_id": "",
       "version_major": 2,
       "version_minor": 0
      },
      "text/plain": [
       "FloatProgress(value=0.0, bar_style='info', description='Progress:', layout=Layout(height='25px', width='50%'),…"
      ]
     },
     "metadata": {},
     "output_type": "display_data"
    },
    {
     "name": "stdout",
     "output_type": "stream",
     "text": [
      "root\n",
      " |-- VendorID: integer (nullable = true)\n",
      " |-- tpep_pickup_datetime: timestamp_ntz (nullable = true)\n",
      " |-- tpep_dropoff_datetime: timestamp_ntz (nullable = true)\n",
      " |-- passenger_count: long (nullable = true)\n",
      " |-- trip_distance: double (nullable = true)\n",
      " |-- RatecodeID: long (nullable = true)\n",
      " |-- store_and_fwd_flag: string (nullable = true)\n",
      " |-- PULocationID: integer (nullable = true)\n",
      " |-- DOLocationID: integer (nullable = true)\n",
      " |-- payment_type: long (nullable = true)\n",
      " |-- fare_amount: double (nullable = true)\n",
      " |-- extra: double (nullable = true)\n",
      " |-- mta_tax: double (nullable = true)\n",
      " |-- tip_amount: double (nullable = true)\n",
      " |-- tolls_amount: double (nullable = true)\n",
      " |-- improvement_surcharge: double (nullable = true)\n",
      " |-- total_amount: double (nullable = true)\n",
      " |-- congestion_surcharge: double (nullable = true)\n",
      " |-- Airport_fee: double (nullable = true)\n",
      " |-- month: integer (nullable = false)\n",
      " |-- year: integer (nullable = false)\n",
      "\n",
      "(None, 3522285)"
     ]
    }
   ],
   "source": [
    "## Source data that will be written later in the prod table.\n",
    "source_df = spark.read.parquet(f\"{raw_data_path}/yellow/oct2023/\")\n",
    "source_df = source_df.withColumn(\"month\", lit(10)) \\\n",
    "        .withColumn(\"year\", lit(2023))\n",
    "source_df.printSchema(), source_df.count()"
   ]
  },
  {
   "cell_type": "code",
   "execution_count": 46,
   "id": "5c7ef345-1513-4ed8-9d9f-7bcb090d3afd",
   "metadata": {
    "execution": {
     "iopub.execute_input": "2023-12-27T12:25:50.934069Z",
     "iopub.status.busy": "2023-12-27T12:25:50.933795Z",
     "iopub.status.idle": "2023-12-27T12:25:52.213576Z",
     "shell.execute_reply": "2023-12-27T12:25:52.212791Z",
     "shell.execute_reply.started": "2023-12-27T12:25:50.934039Z"
    }
   },
   "outputs": [
    {
     "data": {
      "application/vnd.jupyter.widget-view+json": {
       "model_id": "1742278eaf764834a917aa0d84f78284",
       "version_major": 2,
       "version_minor": 0
      },
      "text/plain": [
       "VBox()"
      ]
     },
     "metadata": {},
     "output_type": "display_data"
    },
    {
     "data": {
      "application/vnd.jupyter.widget-view+json": {
       "model_id": "",
       "version_major": 2,
       "version_minor": 0
      },
      "text/plain": [
       "FloatProgress(value=0.0, bar_style='info', description='Progress:', layout=Layout(height='25px', width='50%'),…"
      ]
     },
     "metadata": {},
     "output_type": "display_data"
    },
    {
     "name": "stdout",
     "output_type": "stream",
     "text": [
      "+----+-----+-------+\n",
      "|year|month|  count|\n",
      "+----+-----+-------+\n",
      "|2023|   10|3522285|\n",
      "+----+-----+-------+"
     ]
    }
   ],
   "source": [
    "source_df.groupBy(\"year\", \"month\").count().show()"
   ]
  },
  {
   "cell_type": "markdown",
   "id": "76d27feb-8b2d-47e7-9a63-e38a95c0f920",
   "metadata": {},
   "source": [
    "## WAP Implementation"
   ]
  },
  {
   "cell_type": "code",
   "execution_count": 31,
   "id": "037688eb-ccf4-4a2d-a20e-a0470dbf2622",
   "metadata": {
    "execution": {
     "iopub.execute_input": "2023-12-27T11:57:25.948863Z",
     "iopub.status.busy": "2023-12-27T11:57:25.948438Z",
     "iopub.status.idle": "2023-12-27T11:57:27.247578Z",
     "shell.execute_reply": "2023-12-27T11:57:27.246675Z",
     "shell.execute_reply.started": "2023-12-27T11:57:25.948814Z"
    }
   },
   "outputs": [
    {
     "data": {
      "application/vnd.jupyter.widget-view+json": {
       "model_id": "f74b78c332b04e84a54a9455c7d98fd6",
       "version_major": 2,
       "version_minor": 0
      },
      "text/plain": [
       "VBox()"
      ]
     },
     "metadata": {},
     "output_type": "display_data"
    },
    {
     "data": {
      "application/vnd.jupyter.widget-view+json": {
       "model_id": "",
       "version_major": 2,
       "version_minor": 0
      },
      "text/plain": [
       "FloatProgress(value=0.0, bar_style='info', description='Progress:', layout=Layout(height='25px', width='50%'),…"
      ]
     },
     "metadata": {},
     "output_type": "display_data"
    },
    {
     "name": "stdout",
     "output_type": "stream",
     "text": [
      "DataFrame[]"
     ]
    }
   ],
   "source": [
    "prod_table = \"glue.nyc_tlc.yellow_taxi_trips\"\n",
    "audit_branch = f\"audit_102023\"\n",
    "\n",
    "# Create an Audit Branch for staging the new data before writing in prod table\n",
    "spark.sql(f\"ALTER TABLE {prod_table} CREATE BRANCH {audit_branch}\")"
   ]
  },
  {
   "cell_type": "code",
   "execution_count": 32,
   "id": "0396ea0d-d23e-4146-856e-aab865db638a",
   "metadata": {
    "execution": {
     "iopub.execute_input": "2023-12-27T11:58:30.035862Z",
     "iopub.status.busy": "2023-12-27T11:58:30.035600Z",
     "iopub.status.idle": "2023-12-27T11:58:39.352737Z",
     "shell.execute_reply": "2023-12-27T11:58:39.351729Z",
     "shell.execute_reply.started": "2023-12-27T11:58:30.035831Z"
    }
   },
   "outputs": [
    {
     "data": {
      "application/vnd.jupyter.widget-view+json": {
       "model_id": "e66e7a6a990b4ca0a3910ecfefb24d25",
       "version_major": 2,
       "version_minor": 0
      },
      "text/plain": [
       "VBox()"
      ]
     },
     "metadata": {},
     "output_type": "display_data"
    },
    {
     "data": {
      "application/vnd.jupyter.widget-view+json": {
       "model_id": "",
       "version_major": 2,
       "version_minor": 0
      },
      "text/plain": [
       "FloatProgress(value=0.0, bar_style='info', description='Progress:', layout=Layout(height='25px', width='50%'),…"
      ]
     },
     "metadata": {},
     "output_type": "display_data"
    },
    {
     "name": "stdout",
     "output_type": "stream",
     "text": [
      "+------------+------+-------------------+-----------------------+---------------------+----------------------+\n",
      "|name        |type  |snapshot_id        |max_reference_age_in_ms|min_snapshots_to_keep|max_snapshot_age_in_ms|\n",
      "+------------+------+-------------------+-----------------------+---------------------+----------------------+\n",
      "|main        |BRANCH|2498870574022386457|null                   |null                 |null                  |\n",
      "|audit_102023|BRANCH|2498870574022386457|null                   |null                 |null                  |\n",
      "+------------+------+-------------------+-----------------------+---------------------+----------------------+"
     ]
    }
   ],
   "source": [
    "# Verify if an audit branch is created.\n",
    "spark.sql(f\"select * from {prod_table}.refs\").show(truncate=False)"
   ]
  },
  {
   "cell_type": "code",
   "execution_count": 44,
   "id": "199ff7d2-0a99-4f64-af0e-ed95d89309bf",
   "metadata": {
    "execution": {
     "iopub.execute_input": "2023-12-27T12:18:45.542395Z",
     "iopub.status.busy": "2023-12-27T12:18:45.542113Z",
     "iopub.status.idle": "2023-12-27T12:18:54.854123Z",
     "shell.execute_reply": "2023-12-27T12:18:54.853344Z",
     "shell.execute_reply.started": "2023-12-27T12:18:45.542363Z"
    }
   },
   "outputs": [
    {
     "data": {
      "application/vnd.jupyter.widget-view+json": {
       "model_id": "84f190dc2a494426a2e97cad8d10f33c",
       "version_major": 2,
       "version_minor": 0
      },
      "text/plain": [
       "VBox()"
      ]
     },
     "metadata": {},
     "output_type": "display_data"
    },
    {
     "data": {
      "application/vnd.jupyter.widget-view+json": {
       "model_id": "",
       "version_major": 2,
       "version_minor": 0
      },
      "text/plain": [
       "FloatProgress(value=0.0, bar_style='info', description='Progress:', layout=Layout(height='25px', width='50%'),…"
      ]
     },
     "metadata": {},
     "output_type": "display_data"
    },
    {
     "name": "stdout",
     "output_type": "stream",
     "text": [
      "+-----------------------+-------------------+---------+---------+---------------------------------------------------------------------------------------------------------------------------------------------+-------------------------------------------------------------------------------------------------------------------------------------------------------------------------------------------------------------------------------------------------------------------------------------------------------------------------------+\n",
      "|committed_at           |snapshot_id        |parent_id|operation|manifest_list                                                                                                                                |summary                                                                                                                                                                                                                                                                                                                        |\n",
      "+-----------------------+-------------------+---------+---------+---------------------------------------------------------------------------------------------------------------------------------------------+-------------------------------------------------------------------------------------------------------------------------------------------------------------------------------------------------------------------------------------------------------------------------------------------------------------------------------+\n",
      "|2023-12-27 11:53:03.541|2498870574022386457|null     |append   |s3://aws-data-068910838149-ap-south-1/nyc_tlc/yellow_taxi_trips/metadata/snap-2498870574022386457-1-53fee8fc-36df-428d-8988-d8cfcc8ec65e.avro|{spark.app.id -> application_1703675496369_0004, added-data-files -> 2, added-records -> 2846722, added-files-size -> 59233206, changed-partition-count -> 1, total-records -> 2846722, total-files-size -> 59233206, total-data-files -> 2, total-delete-files -> 0, total-position-deletes -> 0, total-equality-deletes -> 0}|\n",
      "+-----------------------+-------------------+---------+---------+---------------------------------------------------------------------------------------------------------------------------------------------+-------------------------------------------------------------------------------------------------------------------------------------------------------------------------------------------------------------------------------------------------------------------------------------------------------------------------------+"
     ]
    }
   ],
   "source": [
    "spark.sql(f\"select * from {prod_table}.snapshots\").show(truncate=False)"
   ]
  },
  {
   "cell_type": "markdown",
   "id": "191de5e7-0984-4e86-98e2-831a37f2ae2f",
   "metadata": {
    "execution": {
     "iopub.execute_input": "2023-12-27T12:17:37.176934Z",
     "iopub.status.busy": "2023-12-27T12:17:37.176669Z",
     "iopub.status.idle": "2023-12-27T12:17:37.235672Z",
     "shell.execute_reply": "2023-12-27T12:17:37.234069Z",
     "shell.execute_reply.started": "2023-12-27T12:17:37.176902Z"
    }
   },
   "source": [
    "### Setting table property for WAP and Spark Session for WAP branch"
   ]
  },
  {
   "cell_type": "code",
   "execution_count": 39,
   "id": "e10a80d9-1c22-4062-abc1-fb49cc89cc61",
   "metadata": {
    "execution": {
     "iopub.execute_input": "2023-12-27T12:09:28.396685Z",
     "iopub.status.busy": "2023-12-27T12:09:28.396418Z",
     "iopub.status.idle": "2023-12-27T12:09:29.174755Z",
     "shell.execute_reply": "2023-12-27T12:09:29.172517Z",
     "shell.execute_reply.started": "2023-12-27T12:09:28.396653Z"
    },
    "tags": []
   },
   "outputs": [
    {
     "data": {
      "application/vnd.jupyter.widget-view+json": {
       "model_id": "8eab9498d07a4d9db3510d956c6159c4",
       "version_major": 2,
       "version_minor": 0
      },
      "text/plain": [
       "VBox()"
      ]
     },
     "metadata": {},
     "output_type": "display_data"
    },
    {
     "data": {
      "application/vnd.jupyter.widget-view+json": {
       "model_id": "",
       "version_major": 2,
       "version_minor": 0
      },
      "text/plain": [
       "FloatProgress(value=0.0, bar_style='info', description='Progress:', layout=Layout(height='25px', width='50%'),…"
      ]
     },
     "metadata": {},
     "output_type": "display_data"
    },
    {
     "name": "stdout",
     "output_type": "stream",
     "text": [
      "DataFrame[]"
     ]
    }
   ],
   "source": [
    "# Set write.wap.enabled=true for table to write data into WAP Pattern.\n",
    "#### After setting this property, unable to see Table DDL statement in Athena but data is queryable.. Need to look more on this later, but for now make sure to unset it after everything is done.\n",
    "spark.sql(f\"ALTER TABLE {prod_table} SET TBLPROPERTIES ('write.wap.enabled'='true')\")"
   ]
  },
  {
   "cell_type": "code",
   "execution_count": 41,
   "id": "79f81035-52bb-4e84-a8c9-c6c51073a6e2",
   "metadata": {
    "execution": {
     "iopub.execute_input": "2023-12-27T12:16:41.448785Z",
     "iopub.status.busy": "2023-12-27T12:16:41.448416Z",
     "iopub.status.idle": "2023-12-27T12:16:42.227595Z",
     "shell.execute_reply": "2023-12-27T12:16:42.226402Z",
     "shell.execute_reply.started": "2023-12-27T12:16:41.448739Z"
    },
    "tags": []
   },
   "outputs": [
    {
     "data": {
      "application/vnd.jupyter.widget-view+json": {
       "model_id": "740607d6825142958cdca17770cd6de3",
       "version_major": 2,
       "version_minor": 0
      },
      "text/plain": [
       "VBox()"
      ]
     },
     "metadata": {},
     "output_type": "display_data"
    },
    {
     "data": {
      "application/vnd.jupyter.widget-view+json": {
       "model_id": "",
       "version_major": 2,
       "version_minor": 0
      },
      "text/plain": [
       "FloatProgress(value=0.0, bar_style='info', description='Progress:', layout=Layout(height='25px', width='50%'),…"
      ]
     },
     "metadata": {},
     "output_type": "display_data"
    },
    {
     "name": "stdout",
     "output_type": "stream",
     "text": [
      "\"CREATE TABLE glue.nyc_tlc.yellow_taxi_trips (\\n  VendorID INT,\\n  tpep_pickup_datetime TIMESTAMP_NTZ,\\n  tpep_dropoff_datetime TIMESTAMP_NTZ,\\n  passenger_count BIGINT,\\n  trip_distance DOUBLE,\\n  RatecodeID BIGINT,\\n  store_and_fwd_flag STRING,\\n  PULocationID INT,\\n  DOLocationID INT,\\n  payment_type BIGINT,\\n  fare_amount DOUBLE,\\n  extra DOUBLE,\\n  mta_tax DOUBLE,\\n  tip_amount DOUBLE,\\n  tolls_amount DOUBLE,\\n  improvement_surcharge DOUBLE,\\n  total_amount DOUBLE,\\n  congestion_surcharge DOUBLE,\\n  Airport_fee DOUBLE,\\n  month INT,\\n  year INT)\\nUSING iceberg\\nPARTITIONED BY (year, month)\\nLOCATION 's3://aws-data-068910838149-ap-south-1/nyc_tlc/yellow_taxi_trips'\\nTBLPROPERTIES (\\n  'current-snapshot-id' = '2498870574022386457',\\n  'format' = 'iceberg/parquet',\\n  'format-version' = '2',\\n  'write.parquet.compression-codec' = 'snappy',\\n  'write.wap.enabled' = 'true')\\n\""
     ]
    }
   ],
   "source": [
    "## Check table DDL\n",
    "spark.sql(f\"show create table {prod_table}\").collect()[0]['createtab_stmt']"
   ]
  },
  {
   "cell_type": "code",
   "execution_count": 43,
   "id": "ad64bc39-f73a-45a9-8b3d-6e6820a3012a",
   "metadata": {
    "execution": {
     "iopub.execute_input": "2023-12-27T12:18:29.075001Z",
     "iopub.status.busy": "2023-12-27T12:18:29.074720Z",
     "iopub.status.idle": "2023-12-27T12:18:29.138251Z",
     "shell.execute_reply": "2023-12-27T12:18:29.137342Z",
     "shell.execute_reply.started": "2023-12-27T12:18:29.074971Z"
    }
   },
   "outputs": [
    {
     "data": {
      "application/vnd.jupyter.widget-view+json": {
       "model_id": "41b1caafaad945029f378114edc7d665",
       "version_major": 2,
       "version_minor": 0
      },
      "text/plain": [
       "VBox()"
      ]
     },
     "metadata": {},
     "output_type": "display_data"
    },
    {
     "data": {
      "application/vnd.jupyter.widget-view+json": {
       "model_id": "",
       "version_major": 2,
       "version_minor": 0
      },
      "text/plain": [
       "FloatProgress(value=0.0, bar_style='info', description='Progress:', layout=Layout(height='25px', width='50%'),…"
      ]
     },
     "metadata": {},
     "output_type": "display_data"
    }
   ],
   "source": [
    "# setting WAP branch to Audit Branch in Spark Session so new data is written into Audit Branch\n",
    "# this will make the default branch from main to audit_branch for this particular Spark Session i.e. all the queries being run without any refrence to other branch will run on audit_branch.\n",
    "spark.conf.set(\"spark.wap.branch\", audit_branch)"
   ]
  },
  {
   "cell_type": "markdown",
   "id": "f59510a2-6dd6-4eb7-b8f0-a9ea88e00cb4",
   "metadata": {},
   "source": [
    "## Write\n",
    "\n",
    "- Writing data into the prod table.\n",
    "- As `spark.wap.branch` is set to `audit_branch`, data will be written default into this branch."
   ]
  },
  {
   "cell_type": "code",
   "execution_count": 47,
   "id": "67cc6006-7fd1-48f0-94d8-0e95d009df7f",
   "metadata": {
    "execution": {
     "iopub.execute_input": "2023-12-27T12:28:28.241779Z",
     "iopub.status.busy": "2023-12-27T12:28:28.241518Z",
     "iopub.status.idle": "2023-12-27T12:28:55.607035Z",
     "shell.execute_reply": "2023-12-27T12:28:55.606091Z",
     "shell.execute_reply.started": "2023-12-27T12:28:28.241747Z"
    }
   },
   "outputs": [
    {
     "data": {
      "application/vnd.jupyter.widget-view+json": {
       "model_id": "a0edbbb26e24484783469922a5d1d3d1",
       "version_major": 2,
       "version_minor": 0
      },
      "text/plain": [
       "VBox()"
      ]
     },
     "metadata": {},
     "output_type": "display_data"
    },
    {
     "data": {
      "application/vnd.jupyter.widget-view+json": {
       "model_id": "",
       "version_major": 2,
       "version_minor": 0
      },
      "text/plain": [
       "FloatProgress(value=0.0, bar_style='info', description='Progress:', layout=Layout(height='25px', width='50%'),…"
      ]
     },
     "metadata": {},
     "output_type": "display_data"
    }
   ],
   "source": [
    "# Appending data into Iceberg Prod Table\n",
    "source_df.writeTo(prod_table).append()"
   ]
  },
  {
   "cell_type": "code",
   "execution_count": 48,
   "id": "e09370f4-bd72-4e62-98e5-bb6e8a2c0283",
   "metadata": {
    "execution": {
     "iopub.execute_input": "2023-12-27T12:29:57.229601Z",
     "iopub.status.busy": "2023-12-27T12:29:57.229329Z",
     "iopub.status.idle": "2023-12-27T12:30:06.535503Z",
     "shell.execute_reply": "2023-12-27T12:30:06.534716Z",
     "shell.execute_reply.started": "2023-12-27T12:29:57.229569Z"
    }
   },
   "outputs": [
    {
     "data": {
      "application/vnd.jupyter.widget-view+json": {
       "model_id": "639e22be7c6a4e06bb04160d053b5453",
       "version_major": 2,
       "version_minor": 0
      },
      "text/plain": [
       "VBox()"
      ]
     },
     "metadata": {},
     "output_type": "display_data"
    },
    {
     "data": {
      "application/vnd.jupyter.widget-view+json": {
       "model_id": "",
       "version_major": 2,
       "version_minor": 0
      },
      "text/plain": [
       "FloatProgress(value=0.0, bar_style='info', description='Progress:', layout=Layout(height='25px', width='50%'),…"
      ]
     },
     "metadata": {},
     "output_type": "display_data"
    },
    {
     "name": "stdout",
     "output_type": "stream",
     "text": [
      "+--------------------+-------------------+-------------------+---------+--------------------+--------------------+\n",
      "|        committed_at|        snapshot_id|          parent_id|operation|       manifest_list|             summary|\n",
      "+--------------------+-------------------+-------------------+---------+--------------------+--------------------+\n",
      "|2023-12-27 11:53:...|2498870574022386457|               null|   append|s3://aws-data-068...|{spark.app.id -> ...|\n",
      "|2023-12-27 12:28:...| 215507697857352501|2498870574022386457|   append|s3://aws-data-068...|{spark.app.id -> ...|\n",
      "+--------------------+-------------------+-------------------+---------+--------------------+--------------------+"
     ]
    }
   ],
   "source": [
    "# Verifying the snapshot to see if a new snapshot is created for the same append\n",
    "spark.sql(f\"select * from {prod_table}.snapshots\").show()"
   ]
  },
  {
   "cell_type": "code",
   "execution_count": 49,
   "id": "9d2ec7be-4dc7-48e8-903e-d26457c880be",
   "metadata": {
    "execution": {
     "iopub.execute_input": "2023-12-27T12:30:37.317933Z",
     "iopub.status.busy": "2023-12-27T12:30:37.317680Z",
     "iopub.status.idle": "2023-12-27T12:30:38.090192Z",
     "shell.execute_reply": "2023-12-27T12:30:38.089398Z",
     "shell.execute_reply.started": "2023-12-27T12:30:37.317903Z"
    }
   },
   "outputs": [
    {
     "data": {
      "application/vnd.jupyter.widget-view+json": {
       "model_id": "18235dc8f3bc41ca9bf1f890253d70ac",
       "version_major": 2,
       "version_minor": 0
      },
      "text/plain": [
       "VBox()"
      ]
     },
     "metadata": {},
     "output_type": "display_data"
    },
    {
     "data": {
      "application/vnd.jupyter.widget-view+json": {
       "model_id": "",
       "version_major": 2,
       "version_minor": 0
      },
      "text/plain": [
       "FloatProgress(value=0.0, bar_style='info', description='Progress:', layout=Layout(height='25px', width='50%'),…"
      ]
     },
     "metadata": {},
     "output_type": "display_data"
    },
    {
     "name": "stdout",
     "output_type": "stream",
     "text": [
      "+------------+------+-------------------+-----------------------+---------------------+----------------------+\n",
      "|name        |type  |snapshot_id        |max_reference_age_in_ms|min_snapshots_to_keep|max_snapshot_age_in_ms|\n",
      "+------------+------+-------------------+-----------------------+---------------------+----------------------+\n",
      "|main        |BRANCH|2498870574022386457|null                   |null                 |null                  |\n",
      "|audit_102023|BRANCH|215507697857352501 |null                   |null                 |null                  |\n",
      "+------------+------+-------------------+-----------------------+---------------------+----------------------+"
     ]
    }
   ],
   "source": [
    "# Verifying refs: snapshot_id must be updated for audit_102023 branch\n",
    "spark.sql(f\"select * from {prod_table}.refs\").show(truncate=False)"
   ]
  },
  {
   "cell_type": "code",
   "execution_count": 50,
   "id": "484d9314-735a-4bbb-a1ac-4c9f0b753f64",
   "metadata": {
    "execution": {
     "iopub.execute_input": "2023-12-27T12:31:55.253199Z",
     "iopub.status.busy": "2023-12-27T12:31:55.252757Z",
     "iopub.status.idle": "2023-12-27T12:32:08.577844Z",
     "shell.execute_reply": "2023-12-27T12:32:08.576841Z",
     "shell.execute_reply.started": "2023-12-27T12:31:55.253167Z"
    }
   },
   "outputs": [
    {
     "data": {
      "application/vnd.jupyter.widget-view+json": {
       "model_id": "377b30c41e4d4e24a3c564b1919d7110",
       "version_major": 2,
       "version_minor": 0
      },
      "text/plain": [
       "VBox()"
      ]
     },
     "metadata": {},
     "output_type": "display_data"
    },
    {
     "data": {
      "application/vnd.jupyter.widget-view+json": {
       "model_id": "",
       "version_major": 2,
       "version_minor": 0
      },
      "text/plain": [
       "FloatProgress(value=0.0, bar_style='info', description='Progress:', layout=Layout(height='25px', width='50%'),…"
      ]
     },
     "metadata": {},
     "output_type": "display_data"
    },
    {
     "name": "stdout",
     "output_type": "stream",
     "text": [
      "+----+-----+-------+\n",
      "|year|month|  count|\n",
      "+----+-----+-------+\n",
      "|2023|   10|3522285|\n",
      "|2023|    9|2846722|\n",
      "+----+-----+-------+"
     ]
    }
   ],
   "source": [
    "## Let's verify data in prod table:\n",
    "spark.table(prod_table).groupBy(\"year\", \"month\").count().show()"
   ]
  },
  {
   "cell_type": "markdown",
   "id": "d073122d-8647-4f02-a235-f01284997e26",
   "metadata": {},
   "source": [
    "**Yikes..!!!!** Data in Prod table is CHANGED ?!?!? Not Really..!!\n",
    "\n",
    "- `spark.wap.branch` is set to `audit_branch` so the actual branch that is being queried is `audit_branch` and not `main` branch."
   ]
  },
  {
   "cell_type": "code",
   "execution_count": 51,
   "id": "bde9ab94-080d-4d63-bfc5-0071857be8f8",
   "metadata": {
    "execution": {
     "iopub.execute_input": "2023-12-27T12:34:23.893529Z",
     "iopub.status.busy": "2023-12-27T12:34:23.893247Z",
     "iopub.status.idle": "2023-12-27T12:34:37.210652Z",
     "shell.execute_reply": "2023-12-27T12:34:37.209730Z",
     "shell.execute_reply.started": "2023-12-27T12:34:23.893498Z"
    }
   },
   "outputs": [
    {
     "data": {
      "application/vnd.jupyter.widget-view+json": {
       "model_id": "563c2bf417254653972dc812668292f3",
       "version_major": 2,
       "version_minor": 0
      },
      "text/plain": [
       "VBox()"
      ]
     },
     "metadata": {},
     "output_type": "display_data"
    },
    {
     "data": {
      "application/vnd.jupyter.widget-view+json": {
       "model_id": "",
       "version_major": 2,
       "version_minor": 0
      },
      "text/plain": [
       "FloatProgress(value=0.0, bar_style='info', description='Progress:', layout=Layout(height='25px', width='50%'),…"
      ]
     },
     "metadata": {},
     "output_type": "display_data"
    },
    {
     "name": "stdout",
     "output_type": "stream",
     "text": [
      "+----+-----+-------+\n",
      "|year|month|  count|\n",
      "+----+-----+-------+\n",
      "|2023|    9|2846722|\n",
      "+----+-----+-------+"
     ]
    }
   ],
   "source": [
    "## Let's check the data in main branch\n",
    "spark.read.option(\"BRANCH\", \"main\").table(prod_table).groupBy(\"year\", \"month\").count().show()"
   ]
  },
  {
   "cell_type": "markdown",
   "id": "c9748844-9d57-4137-86b3-dca277f65d33",
   "metadata": {},
   "source": [
    "This verifies that all the read/write operation with `wap.branch` set to `audit_branch` is happening in `audit_branch`"
   ]
  },
  {
   "cell_type": "markdown",
   "id": "26c79422-63bb-4a2a-81b8-75c420dfbe88",
   "metadata": {},
   "source": [
    "## Audit\n",
    "\n",
    "### Auditing data present in Audit Branch.\n",
    "\n",
    "Let's assume as per our application data quality standards:\n",
    "- It shouldn't have any data with `total_amount` as negative.\n",
    "- The completeness of VendorID should be 1.0 i.e. there shouldn't be any `null` in `VendorID` field.\n",
    "- `payment_type` should contain only discrete numeric values from 1 to 6\n",
    "\n",
    "So these are mainly nothing but data quality rules that you can run on the `audit branch` and decide what you want to do with the data for e.g.\n",
    "\n",
    "- Discard the entire snapshot as the DQ doesn't meet the expectation.\n",
    "- DELETE the rows not meeting DQ standards and preserve such records somewhere else.\n",
    "- Fix the data via some logic like populating `null` and `missing` value with some logic."
   ]
  },
  {
   "cell_type": "code",
   "execution_count": 52,
   "id": "3932b368-4545-4b05-bca1-d255dd034aed",
   "metadata": {
    "execution": {
     "iopub.execute_input": "2023-12-27T12:41:27.988851Z",
     "iopub.status.busy": "2023-12-27T12:41:27.988590Z",
     "iopub.status.idle": "2023-12-27T12:41:28.254309Z",
     "shell.execute_reply": "2023-12-27T12:41:28.253539Z",
     "shell.execute_reply.started": "2023-12-27T12:41:27.988819Z"
    }
   },
   "outputs": [
    {
     "data": {
      "application/vnd.jupyter.widget-view+json": {
       "model_id": "8b3a134f47124bd3ac8ad6dcc18c19b8",
       "version_major": 2,
       "version_minor": 0
      },
      "text/plain": [
       "VBox()"
      ]
     },
     "metadata": {},
     "output_type": "display_data"
    },
    {
     "data": {
      "application/vnd.jupyter.widget-view+json": {
       "model_id": "",
       "version_major": 2,
       "version_minor": 0
      },
      "text/plain": [
       "FloatProgress(value=0.0, bar_style='info', description='Progress:', layout=Layout(height='25px', width='50%'),…"
      ]
     },
     "metadata": {},
     "output_type": "display_data"
    }
   ],
   "source": [
    "# Reading data from Audit Branch:\n",
    "audit_data = spark.read.option(\"BRANCH\", audit_branch).table(prod_table)\n",
    "\n",
    "# check if there are any rows with negative total_amount\n",
    "neg_amt_df = audit_data.filter(col(\"total_amount\") < 0)"
   ]
  },
  {
   "cell_type": "code",
   "execution_count": 53,
   "id": "cb2a6507-8c6a-4be1-8d15-731661c3b54b",
   "metadata": {
    "execution": {
     "iopub.execute_input": "2023-12-27T12:41:55.873710Z",
     "iopub.status.busy": "2023-12-27T12:41:55.873450Z",
     "iopub.status.idle": "2023-12-27T12:42:25.245085Z",
     "shell.execute_reply": "2023-12-27T12:42:25.244293Z",
     "shell.execute_reply.started": "2023-12-27T12:41:55.873679Z"
    }
   },
   "outputs": [
    {
     "data": {
      "application/vnd.jupyter.widget-view+json": {
       "model_id": "54d9d301891f41a383e05dbc65598fde",
       "version_major": 2,
       "version_minor": 0
      },
      "text/plain": [
       "VBox()"
      ]
     },
     "metadata": {},
     "output_type": "display_data"
    },
    {
     "data": {
      "application/vnd.jupyter.widget-view+json": {
       "model_id": "",
       "version_major": 2,
       "version_minor": 0
      },
      "text/plain": [
       "FloatProgress(value=0.0, bar_style='info', description='Progress:', layout=Layout(height='25px', width='50%'),…"
      ]
     },
     "metadata": {},
     "output_type": "display_data"
    },
    {
     "name": "stdout",
     "output_type": "stream",
     "text": [
      "DataFrame[]"
     ]
    }
   ],
   "source": [
    "if not neg_amt_df.isEmpty():\n",
    "    # write rejected records in some table or someplace before deleting them.\n",
    "    # neg_amt_df.write.partitionedBy(\"year\",\"month\").parquet(\"bad-data-location\")\n",
    "    spark.sql(f\"DELETE FROM {prod_table} where total_amount < 0\")"
   ]
  },
  {
   "cell_type": "code",
   "execution_count": 54,
   "id": "1e5e06be-5f3f-4ecc-ba67-cb419e5f10a1",
   "metadata": {
    "execution": {
     "iopub.execute_input": "2023-12-27T12:43:04.992202Z",
     "iopub.status.busy": "2023-12-27T12:43:04.991928Z",
     "iopub.status.idle": "2023-12-27T12:43:06.264520Z",
     "shell.execute_reply": "2023-12-27T12:43:06.263731Z",
     "shell.execute_reply.started": "2023-12-27T12:43:04.992172Z"
    }
   },
   "outputs": [
    {
     "data": {
      "application/vnd.jupyter.widget-view+json": {
       "model_id": "4d51b889547b4eeaaf4510d13c1e7440",
       "version_major": 2,
       "version_minor": 0
      },
      "text/plain": [
       "VBox()"
      ]
     },
     "metadata": {},
     "output_type": "display_data"
    },
    {
     "data": {
      "application/vnd.jupyter.widget-view+json": {
       "model_id": "",
       "version_major": 2,
       "version_minor": 0
      },
      "text/plain": [
       "FloatProgress(value=0.0, bar_style='info', description='Progress:', layout=Layout(height='25px', width='50%'),…"
      ]
     },
     "metadata": {},
     "output_type": "display_data"
    },
    {
     "name": "stdout",
     "output_type": "stream",
     "text": [
      "29253"
     ]
    }
   ],
   "source": [
    "# Checking data in main branch\n",
    "spark.read.option(\"BRANCH\",\"main\").table(prod_table).filter(col(\"total_amount\") < 0).count()"
   ]
  },
  {
   "cell_type": "code",
   "execution_count": 55,
   "id": "abfd23fa-a1f6-4e8f-bec2-03b596db9c57",
   "metadata": {
    "execution": {
     "iopub.execute_input": "2023-12-27T12:43:28.682440Z",
     "iopub.status.busy": "2023-12-27T12:43:28.682146Z",
     "iopub.status.idle": "2023-12-27T12:43:28.951501Z",
     "shell.execute_reply": "2023-12-27T12:43:28.950700Z",
     "shell.execute_reply.started": "2023-12-27T12:43:28.682407Z"
    }
   },
   "outputs": [
    {
     "data": {
      "application/vnd.jupyter.widget-view+json": {
       "model_id": "d55bd9e36274478fa45bad29aa8faca5",
       "version_major": 2,
       "version_minor": 0
      },
      "text/plain": [
       "VBox()"
      ]
     },
     "metadata": {},
     "output_type": "display_data"
    },
    {
     "data": {
      "application/vnd.jupyter.widget-view+json": {
       "model_id": "",
       "version_major": 2,
       "version_minor": 0
      },
      "text/plain": [
       "FloatProgress(value=0.0, bar_style='info', description='Progress:', layout=Layout(height='25px', width='50%'),…"
      ]
     },
     "metadata": {},
     "output_type": "display_data"
    },
    {
     "name": "stdout",
     "output_type": "stream",
     "text": [
      "0"
     ]
    }
   ],
   "source": [
    "# Checking data in audit branch\n",
    "spark.table(prod_table).filter(col(\"total_amount\") < 0).count()"
   ]
  },
  {
   "cell_type": "markdown",
   "id": "fe053459-fc6b-4abd-a675-0c1e1b0bbf9a",
   "metadata": {},
   "source": [
    "- Incase data doesn't need to publish on DQ Check failure. Just drop the audit_branch."
   ]
  },
  {
   "cell_type": "code",
   "execution_count": null,
   "id": "7ed3da98-03e3-45bb-9ef8-5de695ee1c46",
   "metadata": {},
   "outputs": [],
   "source": [
    "# dropping Audit Branch\n",
    "# spark.sql(f\"ALTER TABLE {prod_table} DROP BRANCH {audit_branch}\")"
   ]
  },
  {
   "cell_type": "markdown",
   "id": "c87d2d7d-dcff-4687-8a1d-8830d449c288",
   "metadata": {
    "execution": {
     "iopub.execute_input": "2023-12-27T12:44:29.315169Z",
     "iopub.status.busy": "2023-12-27T12:44:29.314917Z",
     "iopub.status.idle": "2023-12-27T12:44:29.387070Z",
     "shell.execute_reply": "2023-12-27T12:44:29.385173Z",
     "shell.execute_reply.started": "2023-12-27T12:44:29.315139Z"
    }
   },
   "source": [
    "- Data is cleaned and good as per the DQ Quality. Let's Publish this data."
   ]
  },
  {
   "cell_type": "markdown",
   "id": "4c55f77b-45bf-4294-8c88-520daaea9689",
   "metadata": {},
   "source": [
    "## Publish\n",
    "\n",
    "Once the Auditing is done and DQ is as expected or fixed. We can `Publish` these final records in the Production `main` branch."
   ]
  },
  {
   "cell_type": "code",
   "execution_count": 57,
   "id": "3602ae1e-4bd5-4863-9430-89bb4ec15a25",
   "metadata": {
    "execution": {
     "iopub.execute_input": "2023-12-27T12:48:20.609372Z",
     "iopub.status.busy": "2023-12-27T12:48:20.609110Z",
     "iopub.status.idle": "2023-12-27T12:48:29.919318Z",
     "shell.execute_reply": "2023-12-27T12:48:29.918267Z",
     "shell.execute_reply.started": "2023-12-27T12:48:20.609341Z"
    }
   },
   "outputs": [
    {
     "data": {
      "application/vnd.jupyter.widget-view+json": {
       "model_id": "ba2095a756e74bc29526cb035a39dcb1",
       "version_major": 2,
       "version_minor": 0
      },
      "text/plain": [
       "VBox()"
      ]
     },
     "metadata": {},
     "output_type": "display_data"
    },
    {
     "data": {
      "application/vnd.jupyter.widget-view+json": {
       "model_id": "",
       "version_major": 2,
       "version_minor": 0
      },
      "text/plain": [
       "FloatProgress(value=0.0, bar_style='info', description='Progress:', layout=Layout(height='25px', width='50%'),…"
      ]
     },
     "metadata": {},
     "output_type": "display_data"
    },
    {
     "name": "stdout",
     "output_type": "stream",
     "text": [
      "+--------------+-------------------+-------------------+\n",
      "|branch_updated|       previous_ref|        updated_ref|\n",
      "+--------------+-------------------+-------------------+\n",
      "|          main|2498870574022386457|8657093001848818796|\n",
      "+--------------+-------------------+-------------------+"
     ]
    }
   ],
   "source": [
    "# Fast forwarding Audit branch to main branch\n",
    "spark.sql(f\"\"\"CALL glue.system.fast_forward('{prod_table}', 'main', '{audit_branch}')\"\"\").show()"
   ]
  },
  {
   "cell_type": "code",
   "execution_count": 58,
   "id": "91f61013-093f-4721-845c-aafee90afcf3",
   "metadata": {
    "execution": {
     "iopub.execute_input": "2023-12-27T12:49:58.056660Z",
     "iopub.status.busy": "2023-12-27T12:49:58.056396Z",
     "iopub.status.idle": "2023-12-27T12:50:11.372171Z",
     "shell.execute_reply": "2023-12-27T12:50:11.371446Z",
     "shell.execute_reply.started": "2023-12-27T12:49:58.056629Z"
    }
   },
   "outputs": [
    {
     "data": {
      "application/vnd.jupyter.widget-view+json": {
       "model_id": "e334438ce75d4fd2a30d76dc4dbad608",
       "version_major": 2,
       "version_minor": 0
      },
      "text/plain": [
       "VBox()"
      ]
     },
     "metadata": {},
     "output_type": "display_data"
    },
    {
     "data": {
      "application/vnd.jupyter.widget-view+json": {
       "model_id": "",
       "version_major": 2,
       "version_minor": 0
      },
      "text/plain": [
       "FloatProgress(value=0.0, bar_style='info', description='Progress:', layout=Layout(height='25px', width='50%'),…"
      ]
     },
     "metadata": {},
     "output_type": "display_data"
    },
    {
     "name": "stdout",
     "output_type": "stream",
     "text": [
      "+----+-----+-------+\n",
      "|year|month|  count|\n",
      "+----+-----+-------+\n",
      "|2023|   10|3485320|\n",
      "|2023|    9|2817469|\n",
      "+----+-----+-------+\n",
      "\n",
      "(None, 0)"
     ]
    }
   ],
   "source": [
    "# checking data in main branch\n",
    "main_df = spark.read.option(\"BRANCH\",\"main\").table(prod_table)\n",
    "main_df.groupBy(\"year\", \"month\").count().show(), main_df.filter(col(\"total_amount\") < 0).count()"
   ]
  },
  {
   "cell_type": "markdown",
   "id": "d7cbff8b-eda4-45c0-b480-050ebf0de2c6",
   "metadata": {},
   "source": [
    "### Unsetting from Spark Session"
   ]
  },
  {
   "cell_type": "code",
   "execution_count": 59,
   "id": "81770ce3-e28b-4d17-8f2d-84a68b8c26d5",
   "metadata": {
    "execution": {
     "iopub.execute_input": "2023-12-27T12:52:05.316692Z",
     "iopub.status.busy": "2023-12-27T12:52:05.316429Z",
     "iopub.status.idle": "2023-12-27T12:52:05.379064Z",
     "shell.execute_reply": "2023-12-27T12:52:05.377715Z",
     "shell.execute_reply.started": "2023-12-27T12:52:05.316661Z"
    }
   },
   "outputs": [
    {
     "data": {
      "application/vnd.jupyter.widget-view+json": {
       "model_id": "3d2e433ddb0b40b4b14d99cb74ca9206",
       "version_major": 2,
       "version_minor": 0
      },
      "text/plain": [
       "VBox()"
      ]
     },
     "metadata": {},
     "output_type": "display_data"
    },
    {
     "data": {
      "application/vnd.jupyter.widget-view+json": {
       "model_id": "",
       "version_major": 2,
       "version_minor": 0
      },
      "text/plain": [
       "FloatProgress(value=0.0, bar_style='info', description='Progress:', layout=Layout(height='25px', width='50%'),…"
      ]
     },
     "metadata": {},
     "output_type": "display_data"
    }
   ],
   "source": [
    "# Unset from SparkSession\n",
    "spark.conf.unset('spark.wap.branch')"
   ]
  },
  {
   "cell_type": "markdown",
   "id": "c7a13ed8",
   "metadata": {},
   "source": [
    "### Unsetting from Table Properties"
   ]
  },
  {
   "cell_type": "code",
   "execution_count": 60,
   "id": "9b070a45-9c56-4ce2-af15-117ef58a55fa",
   "metadata": {
    "execution": {
     "iopub.execute_input": "2023-12-27T12:58:32.711070Z",
     "iopub.status.busy": "2023-12-27T12:58:32.710813Z",
     "iopub.status.idle": "2023-12-27T12:58:33.987187Z",
     "shell.execute_reply": "2023-12-27T12:58:33.986417Z",
     "shell.execute_reply.started": "2023-12-27T12:58:32.711039Z"
    }
   },
   "outputs": [
    {
     "data": {
      "application/vnd.jupyter.widget-view+json": {
       "model_id": "6a441db9b40845e7803b276f9a838db3",
       "version_major": 2,
       "version_minor": 0
      },
      "text/plain": [
       "VBox()"
      ]
     },
     "metadata": {},
     "output_type": "display_data"
    },
    {
     "data": {
      "application/vnd.jupyter.widget-view+json": {
       "model_id": "",
       "version_major": 2,
       "version_minor": 0
      },
      "text/plain": [
       "FloatProgress(value=0.0, bar_style='info', description='Progress:', layout=Layout(height='25px', width='50%'),…"
      ]
     },
     "metadata": {},
     "output_type": "display_data"
    },
    {
     "name": "stdout",
     "output_type": "stream",
     "text": [
      "DataFrame[]"
     ]
    }
   ],
   "source": [
    "### unset from table properties so that create table ddl can be seen again on Athena.\n",
    "spark.sql(f\"ALTER TABLE {prod_table} UNSET TBLPROPERTIES ('write.wap.enabled')\")"
   ]
  },
  {
   "cell_type": "markdown",
   "id": "d9fe57e5",
   "metadata": {},
   "source": [
    "### Droping the Audit branch"
   ]
  },
  {
   "cell_type": "code",
   "execution_count": null,
   "id": "56b5ca78-9012-4265-8bc9-2f6f8d6e32af",
   "metadata": {},
   "outputs": [],
   "source": [
    "# Once the fast forward is done, both the branch will be pointing to the same snapshot so audit branch can be dropped if required.\n",
    "spark.sql(f\"ALTER TABLE {prod_table} DROP BRANCH {audit_branch}\")"
   ]
  }
 ],
 "metadata": {
  "kernelspec": {
   "display_name": "PySpark",
   "language": "python",
   "name": "pysparkkernel"
  },
  "language_info": {
   "codemirror_mode": {
    "name": "python",
    "version": 3
   },
   "file_extension": ".py",
   "mimetype": "text/x-python",
   "name": "pyspark",
   "pygments_lexer": "python3"
  }
 },
 "nbformat": 4,
 "nbformat_minor": 5
}
